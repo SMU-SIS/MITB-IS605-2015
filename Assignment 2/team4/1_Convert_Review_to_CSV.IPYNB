{
 "cells": [
  {
   "cell_type": "code",
   "execution_count": null,
   "metadata": {
    "collapsed": false
   },
   "outputs": [],
   "source": [
    "import json\n",
    "import gzip\n",
    "\n",
    "def parse(path):\n",
    "  g = gzip.open(path, 'r')\n",
    "  for l in g:\n",
    "    yield json.dumps(eval(l))\n",
    "\n",
    "f = open(\"review.strict\", 'w')\n",
    "for l in parse(\"reviews_Electronics.json.gz\"):\n",
    "\n",
    "    f.write(l + '\\n')\n"
   ]
  },
  {
   "cell_type": "code",
   "execution_count": 9,
   "metadata": {
    "collapsed": false
   },
   "outputs": [],
   "source": [
    "import json, csv\n",
    "\n",
    "with open(\"review.strict\", \"r\") as infile:\n",
    "    with open(\"review_full.csv\", \"w\") as outfile:\n",
    "        writer = csv.writer(outfile)\n",
    "       \n",
    "        fields = ['asin', 'helpful','overall','reviewText','reviewTime','reviewerID','reviewerName']\n",
    "        for json_line in infile:  \n",
    "            product = json.loads(json_line)\n",
    "            line = []\n",
    "            for f in fields:\n",
    "                if f in product:\n",
    "                    line.append(product[f])\n",
    "                else:\n",
    "                    line.append(\"\")\n",
    "            writer.writerow(line)"
   ]
  },
  {
   "cell_type": "code",
   "execution_count": null,
   "metadata": {
    "collapsed": false
   },
   "outputs": [],
   "source": []
  },
  {
   "cell_type": "code",
   "execution_count": 1,
   "metadata": {
    "collapsed": true
   },
   "outputs": [],
   "source": [
    "#remove the review text part as the csv file is too big to process\n",
    "\n",
    "import json, csv\n",
    "\n",
    "with open(\"review.strict\", \"r\") as infile:\n",
    "    with open(\"review.csv\", \"w\") as outfile:\n",
    "        writer = csv.writer(outfile)\n",
    "       \n",
    "        fields = ['asin', 'helpful','overall','reviewTime','reviewerName']\n",
    "        for json_line in infile:  \n",
    "            product = json.loads(json_line)\n",
    "            line = []\n",
    "            for f in fields:\n",
    "                if f in product:\n",
    "                    line.append(product[f])\n",
    "                else:\n",
    "                    line.append(\"\")\n",
    "            writer.writerow(line)"
   ]
  },
  {
   "cell_type": "code",
   "execution_count": null,
   "metadata": {
    "collapsed": true
   },
   "outputs": [],
   "source": [
    "#remove the review text part as the csv file is too big to process\n",
    "\n",
    "import json, csv\n",
    "\n",
    "with open(\"review.strict\", \"r\") as infile:\n",
    "    with open(\"review.csv\", \"w\") as outfile:\n",
    "        writer = csv.writer(outfile)\n",
    "       \n",
    "        fields = ['Re']\n",
    "        for json_line in infile:  \n",
    "            product = json.loads(json_line)\n",
    "            line = []\n",
    "            for f in fields:\n",
    "                if f in product:\n",
    "                    line.append(product[f])\n",
    "                else:\n",
    "                    line.append(\"\")\n",
    "            writer.writerow(line)"
   ]
  }
 ],
 "metadata": {
  "kernelspec": {
   "display_name": "Python 3",
   "language": "python",
   "name": "python3"
  },
  "language_info": {
   "codemirror_mode": {
    "name": "ipython",
    "version": 3
   },
   "file_extension": ".py",
   "mimetype": "text/x-python",
   "name": "python",
   "nbconvert_exporter": "python",
   "pygments_lexer": "ipython3",
   "version": "3.4.3"
  }
 },
 "nbformat": 4,
 "nbformat_minor": 0
}
