{
 "cells": [
  {
   "cell_type": "code",
   "execution_count": 1,
   "metadata": {
    "collapsed": false
   },
   "outputs": [],
   "source": [
    "import json\n",
    "import gzip\n",
    "\n",
    "def parse(path):\n",
    "  g = gzip.open(path, 'r')\n",
    "  for l in g:\n",
    "    yield json.dumps(eval(l))\n",
    "\n",
    "f = open(\"meta.strict\", 'w')\n",
    "for l in parse(\"meta_Electronics.json.gz\"):\n",
    "  f.write(l + '\\n')\n",
    "\n",
    "\n"
   ]
  },
  {
   "cell_type": "code",
   "execution_count": 3,
   "metadata": {
    "collapsed": false
   },
   "outputs": [],
   "source": [
    "import json, csv\n",
    "\n",
    "with open(\"meta.strict\", \"r\") as infile:\n",
    "    with open(\"meta.csv\", \"w\") as outfile:\n",
    "        writer = csv.writer(outfile)\n",
    "\n",
    "        fields = [\"asin\",\"title\",\"price\"]  \n",
    "        for json_line in infile:  \n",
    "            product = json.loads(json_line)\n",
    "            line = []\n",
    "            for f in fields:\n",
    "                if f in product:\n",
    "                    line.append(product[f])\n",
    "                else:\n",
    "                    line.append(\"\")\n",
    "            writer.writerow(line)\n",
    "    \n",
    "    \n"
   ]
  },
  {
   "cell_type": "code",
   "execution_count": 1,
   "metadata": {
    "collapsed": false
   },
   "outputs": [],
   "source": []
  },
  {
   "cell_type": "code",
   "execution_count": 2,
   "metadata": {
    "collapsed": true
   },
   "outputs": [],
   "source": [
    "\n",
    "    "
   ]
  },
  {
   "cell_type": "code",
   "execution_count": null,
   "metadata": {
    "collapsed": true
   },
   "outputs": [],
   "source": []
  }
 ],
 "metadata": {
  "kernelspec": {
   "display_name": "Python 3",
   "language": "python",
   "name": "python3"
  },
  "language_info": {
   "codemirror_mode": {
    "name": "ipython",
    "version": 3
   },
   "file_extension": ".py",
   "mimetype": "text/x-python",
   "name": "python",
   "nbconvert_exporter": "python",
   "pygments_lexer": "ipython3",
   "version": "3.4.3"
  }
 },
 "nbformat": 4,
 "nbformat_minor": 0
}
