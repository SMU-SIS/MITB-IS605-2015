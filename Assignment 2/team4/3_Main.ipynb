{
 "cells": [
  {
   "cell_type": "code",
   "execution_count": 1,
   "metadata": {
    "collapsed": false
   },
   "outputs": [
    {
     "name": "stdout",
     "output_type": "stream",
     "text": [
      "<class 'pandas.core.frame.DataFrame'>\n",
      "Int64Index: 7824545 entries, 0 to 7824544\n",
      "Data columns (total 7 columns):\n",
      "ProductId        object\n",
      "Helpful          object\n",
      "Rating           float64\n",
      "ReviewSummary    object\n",
      "ReviewDate       object\n",
      "ReviewerID       object\n",
      "Reviewer         object\n",
      "dtypes: float64(1), object(6)\n",
      "memory usage: 477.6+ MB\n",
      "None\n",
      "               Rating     Helpfulness  helpfulness_denominator  \\\n",
      "count  7351816.000000  7351816.000000           7351816.000000   \n",
      "mean         4.022256        1.969309                 2.520309   \n",
      "std          1.375335       23.336054                24.536412   \n",
      "min          1.000000        0.000000                 0.000000   \n",
      "25%          3.000000        0.000000                 0.000000   \n",
      "50%          5.000000        0.000000                 0.000000   \n",
      "75%          5.000000        1.000000                 1.000000   \n",
      "max          5.000000    30735.000000             31453.000000   \n",
      "\n",
      "         helpfulscore  reviewtextcount     day_of_week           price  \n",
      "count  2986271.000000   7348367.000000  7351816.000000  7351816.000000  \n",
      "mean         0.720094       449.228797        2.845643       73.004045  \n",
      "std          0.373237       625.696255        1.976842      121.677634  \n",
      "min          0.000000         1.000000        0.000000        0.010000  \n",
      "25%          0.500000       144.000000        1.000000       10.980000  \n",
      "50%          1.000000       250.000000        3.000000       26.990000  \n",
      "75%          1.000000       503.000000        5.000000       74.990000  \n",
      "max          1.000000     32703.000000        6.000000      999.990000  \n",
      "                           Rating  Helpfulness  helpfulness_denominator  \\\n",
      "Rating                   1.000000    -0.014049                -0.033525   \n",
      "Helpfulness             -0.014049     1.000000                 0.992309   \n",
      "helpfulness_denominator -0.033525     0.992309                 1.000000   \n",
      "helpfulscore             0.249867     0.060390                 0.026669   \n",
      "reviewtextcount         -0.059568     0.182132                 0.187898   \n",
      "day_of_week             -0.000698     0.000857                 0.001276   \n",
      "price                    0.021338     0.040366                 0.051147   \n",
      "\n",
      "                         helpfulscore  reviewtextcount  day_of_week     price  \n",
      "Rating                       0.249867        -0.059568    -0.000698  0.021338  \n",
      "Helpfulness                  0.060390         0.182132     0.000857  0.040366  \n",
      "helpfulness_denominator      0.026669         0.187898     0.001276  0.051147  \n",
      "helpfulscore                 1.000000         0.129556    -0.000165 -0.020491  \n",
      "reviewtextcount              0.129556         1.000000     0.005499  0.177148  \n",
      "day_of_week                 -0.000165         0.005499     1.000000  0.005508  \n",
      "price                       -0.020491         0.177148     0.005508  1.000000  \n"
     ]
    }
   ],
   "source": [
    "import pandas as pd\n",
    "import numpy as np\n",
    "import csv\n",
    "import string\n",
    "import matplotlib.pyplot as plt\n",
    "from matplotlib import style\n",
    "import datetime\n",
    "\n",
    "#read full csv including review text\n",
    "\n",
    "infile = 'review_full.csv'\n",
    "df = pd.read_csv(infile,skipinitialspace = True)\n",
    "df.columns = ['ProductId','Helpful','Rating','ReviewSummary','ReviewDate','ReviewerID','Reviewer']\n",
    "\n",
    "#read  csv without review text\n",
    "\n",
    "#infile = 'review.csv'\n",
    "#df = pd.read_csv(infile,skipinitialspace = True)\n",
    "#df.columns = ['ProductId','Helpful','Rating','ReviewDate','Reviewer']\n",
    "\n",
    "\n",
    "print(df.info())\n",
    "\n",
    "#clear NaN Rows\n",
    "df = df[df['ProductId'] != 'NaN']\n",
    "\n",
    "#get the helpful score to put into 2 columns\n",
    "s = df['Helpful'].str.split(',', expand=True).astype(str)\n",
    "df['Helpfulness'] = s[0].str.strip('[')\n",
    "df['helpfulness_denominator'] = s[1].str.strip(']')\n",
    "#convert to numberic\n",
    "df['Helpfulness'] = df['Helpfulness'].convert_objects(convert_numeric=True)\n",
    "df['helpfulness_denominator'] = df['helpfulness_denominator'].convert_objects(convert_numeric=True)\n",
    "\n",
    "#df['helpfulness_denominator'] = df['helpfulness_denominator'].convert_objects(convert_numeric=True)\n",
    "df['helpfulscore'] = np.where(df['helpfulness_denominator']>0, df['Helpfulness']/df['helpfulness_denominator'],0)\n",
    "df['helpfulscore'] = df['Helpfulness']/df['helpfulness_denominator']\n",
    "\n",
    "#Get the length of review summary\n",
    "\n",
    "df['reviewtextcount'] = df['ReviewSummary'].str.len()\n",
    "\n",
    "\n",
    "s = df['ReviewDate'].str.split(',', expand=True).astype(str)\n",
    "df['ReviewDate_year'] = s[1]\n",
    "s2 = s[0].str.split(' ', expand=True).astype(str)\n",
    "df['ReviewDate_month'] = s2[0]\n",
    "df['ReviewDate_date'] = s2[1]\n",
    "df['ReviewDate_formatted']=pd.to_datetime(df['ReviewDate_year'].str.strip()+df['ReviewDate_month'].str.strip()+df['ReviewDate_date'].str.strip(), format='%Y%m%d')\n",
    "\n",
    "# get the days of the week\n",
    "df['day_of_week'] = df['ReviewDate_formatted'].dt.dayofweek\n",
    "#days = {0:'Mon',1:'Tues',2:'Weds',3:'Thur',4:'Fri',5:'Sat',6:'Sun'}\n",
    "#df['day_of_week'] = df['day_of_week'].apply(lambda x: days[x])\n",
    "\n",
    "\n",
    "#####      read the meta data  ############\n",
    "metafile = 'meta.csv'\n",
    "df_meta = pd.read_csv(metafile,skipinitialspace = True)\n",
    "df_meta.columns = ['ProductId','title','price']\n",
    "\n",
    "#clear NaN Rows\n",
    "df_meta = df_meta[df_meta['price']>0]\n",
    "#print(df_meta.head())\n",
    "\n",
    "#####         Merge with Meta data to get price infor ###################\n",
    "\n",
    "df_full = pd.merge(df,df_meta,on= 'ProductId')\n",
    "\n",
    "#####       some basics about the merged data     #######\n",
    "print(df_full.describe())\n",
    "\n",
    "print(df_full.corr(method='pearson'))\n",
    "\n",
    "\n"
   ]
  },
  {
   "cell_type": "code",
   "execution_count": null,
   "metadata": {
    "collapsed": false
   },
   "outputs": [],
   "source": [
    "##  1. Agg by month and plot by year, count number of comments, and get the mean of helpfulness score\n",
    "inputyear= input(\"Pls select inpput year: \")\n",
    "df_full_yearly = df_full[df_full['ReviewDate_year'].str.strip() == inputyear]\n",
    "print(df_full_yearly.head(5))\n",
    "\n",
    "df_monthlycount = df_full_yearly[['ProductId','Reviewer','ReviewDate_month']].groupby(['ReviewDate_month']).count()\n",
    "#print(df_monthlycount)\n",
    "\n",
    "df_helful_monthlymean =  df_full_yearly[['helpfulscore','ReviewDate_month']].groupby(['ReviewDate_month']).agg('mean')\n",
    "#print(df_helful_monthlymean.head(12))\n",
    "\n",
    "\n",
    "\n",
    "#####Plot 1 #################\n",
    "print(type(df_monthlycount))\n",
    "\n",
    "import matplotlib.pyplot as plt\n",
    "df_monthlycount.to_csv('df_monthlycount.csv')\n",
    "df = pd.read_csv('df_monthlycount.csv')\n",
    "df.plot(x ='ReviewDate_month',y=['ProductId', 'Reviewer'],kind='line',title = 'Counts of review by Months')\n",
    "plt.show()"
   ]
  },
  {
   "cell_type": "code",
   "execution_count": null,
   "metadata": {
    "collapsed": false
   },
   "outputs": [],
   "source": [
    "##  2. Agg by days of week ################\n",
    "inputyear= input(\"Pls input year(2012/2013/2014): \")\n",
    "df_full_yearly = df_full[df_full['ReviewDate_year'].str.strip() == inputyear]print(df_full_yearly.head())\n",
    "df_full_daysofweek = df_full_yearly[['ProductId','Reviewer','day_of_week']].groupby(['day_of_week']).count()\n",
    "\n",
    "#####Plot 2 #################\n",
    "print(type(df_full_daysofweek))\n",
    "\n",
    "import matplotlib.pyplot as plt\n",
    "df_full_daysofweek.to_csv('df_daysofweekcount.csv')\n",
    "df = pd.read_csv('df_daysofweekcount.csv')\n",
    "df.plot(x ='day_of_week',y=['ProductId', 'Reviewer'],kind='line',title = 'Counts day of week')\n",
    "plt.show()"
   ]
  },
  {
   "cell_type": "code",
   "execution_count": null,
   "metadata": {
    "collapsed": false
   },
   "outputs": [],
   "source": [
    "# price and rating score correlation  WIP\n",
    "\n",
    "#inputyear= input(\"Pls input year(2012/2013/2014): \") \n",
    "inputyear = '2013'\n",
    "\n",
    "df_full_yearly = df_full[df_full['ReviewDate_year'].str.strip() == inputyear]\n",
    "\n",
    "df_review_count = df_full_yearly[['ProductId','Reviewer']].groupby(['ProductId']).count()\n",
    "\n",
    "print(df_review_count.head())\n",
    "#df_new.columns = ['ProductId','Helpful','Rating','ReviewDate','Reviewer','count_by_prodcut']\n",
    "df = pd.merge(df_full_yearly,df_review_count,on= 'ProductId')\n",
    "\n",
    "print(df.head())\n",
    "#df_full_yearly.corr(method='pearson', min_periods=1)"
   ]
  },
  {
   "cell_type": "code",
   "execution_count": null,
   "metadata": {
    "collapsed": false
   },
   "outputs": [],
   "source": [
    "#Analyize the length and, review score and helpfulness total relationship, plot into scatter \n",
    "\n",
    "inputyear = '2013'\n",
    "\n",
    "df_full_2 = df_full[df_full['ReviewDate_year'].str.strip() == inputyear]\n",
    "\n",
    "plt.scatter(df_full_2['Rating'],df_full_2['reviewtextcount'],s=df_full_2['Helpfulness'])\n",
    "plt.show()\n"
   ]
  },
  {
   "cell_type": "code",
   "execution_count": null,
   "metadata": {
    "collapsed": true
   },
   "outputs": [],
   "source": [
    "#Analyize the length and, review score and price total relationship, plot into scatter \n",
    "\n",
    "inputyear = '2013'\n",
    "df_full_yearly = df_full[df_full['ReviewDate_year'].str.strip() == inputyear]\n",
    "\n",
    "plt.scatter(df_full_yearly['Rating'],df_full_yearly['reviewtextcount'],s=df_full_yearly['price'])\n",
    "plt.show()\n",
    "\n"
   ]
  },
  {
   "cell_type": "code",
   "execution_count": null,
   "metadata": {
    "collapsed": true
   },
   "outputs": [],
   "source": [
    "#Analysis the trend of review length in the days of week\n",
    "inputyear = '2013'\n",
    "df_full_yearly = df_full[df_full['ReviewDate_year'].str.strip() == inputyear]\n",
    "\n",
    "df_avgreviewlengh_daysofweek = df_full_yearly[['day_of_week','reviewtextcount']].groupby(['day_of_week']).mean()\n",
    "\n",
    "import matplotlib.pyplot as plt\n",
    "df_avgreviewlengh_daysofweek.to_csv('df_avgreviewlengh_daysofweek.csv')\n",
    "df_avgreviewlengh_daysofweek = pd.read_csv('df_avgreviewlengh_daysofweek.csv')\n",
    "\n",
    "df_avgreviewlengh_daysofweek.plot(x ='day_of_week',y=['reviewtextcount'],kind='line')\n",
    "plt.show()"
   ]
  },
  {
   "cell_type": "code",
   "execution_count": null,
   "metadata": {
    "collapsed": true
   },
   "outputs": [],
   "source": [
    "#Analyize rating versus helpfuness\n",
    "\n",
    "inputyear = '2013'\n",
    "\n",
    "df_full_yearly = df_full[df_full['ReviewDate_year'].str.strip() == inputyear]\n",
    "plt.scatter(df_full_yearly['Rating'],df_full_yearly['Helpfulness'])\n",
    "plt.show()\n",
    "\n",
    "\n"
   ]
  },
  {
   "cell_type": "code",
   "execution_count": null,
   "metadata": {
    "collapsed": false
   },
   "outputs": [],
   "source": [
    "#Analyize rating count versus price\n",
    "\n",
    "inputyear = '2013'\n",
    "df_full_yearly = df_full[df_full['ReviewDate_year'].str.strip() == inputyear]\n",
    "\n"
   ]
  },
  {
   "cell_type": "code",
   "execution_count": 19,
   "metadata": {
    "collapsed": false
   },
   "outputs": [
    {
     "name": "stderr",
     "output_type": "stream",
     "text": [
      "C:\\Anaconda3\\lib\\site-packages\\ipykernel\\__main__.py:6: SettingWithCopyWarning: \n",
      "A value is trying to be set on a copy of a slice from a DataFrame.\n",
      "Try using .loc[row_indexer,col_indexer] = value instead\n",
      "\n",
      "See the the caveats in the documentation: http://pandas.pydata.org/pandas-docs/stable/indexing.html#indexing-view-versus-copy\n"
     ]
    }
   ],
   "source": [
    "\n",
    "df_reviewcount_pricerange = df_full_yearly[['price','Reviewer']].groupby(['price']).count()\n",
    "\n",
    "import matplotlib.pyplot as plt\n",
    "\n",
    "df_reviewcount_pricerange.to_csv('df_reviewcount_pricerange.csv')\n",
    "df = pd.read_csv('df_reviewcount_pricerange.csv')\n",
    "df.plot(x ='price',y=['Reviewer'],kind='line',title = 'Review by price range')\n",
    "plt.show()\n",
    "\n"
   ]
  },
  {
   "cell_type": "code",
   "execution_count": 26,
   "metadata": {
    "collapsed": false
   },
   "outputs": [
    {
     "name": "stderr",
     "output_type": "stream",
     "text": [
      "C:\\Anaconda3\\lib\\site-packages\\ipykernel\\__main__.py:7: SettingWithCopyWarning: \n",
      "A value is trying to be set on a copy of a slice from a DataFrame.\n",
      "Try using .loc[row_indexer,col_indexer] = value instead\n",
      "\n",
      "See the the caveats in the documentation: http://pandas.pydata.org/pandas-docs/stable/indexing.html#indexing-view-versus-copy\n"
     ]
    }
   ],
   "source": [
    "\n",
    "#Analyize price range versus helpfulness\n",
    "\n",
    "inputyear = '2013'\n",
    "\n",
    "df_full_yearly = df_full[df_full['ReviewDate_year'].str.strip() == inputyear]\n",
    "df_full_yearly['pricerange'] = np.around(df_full_yearly['price']/10,0)\n",
    "\n",
    "df_helpful_pricerange = df_full_yearly[['pricerange','Helpfulness']].groupby(['pricerange']).mean()\n",
    "\n",
    "\n",
    "\n",
    "df_helpful_pricerange.to_csv('df_helpful_pricerange.csv')\n",
    "df = pd.read_csv('df_helpful_pricerange.csv')\n",
    "\n",
    "df.plot(x ='pricerange',y=['Helpfulness'],kind='line',title = 'Helpfulness by price range')\n",
    "plt.show()\n"
   ]
  },
  {
   "cell_type": "code",
   "execution_count": 6,
   "metadata": {
    "collapsed": false
   },
   "outputs": [
    {
     "name": "stdout",
     "output_type": "stream",
     "text": [
      "Number of Unique Product: \n",
      "370402\n",
      "Number of Unique Reviewer: \n",
      "4009194\n"
     ]
    }
   ],
   "source": [
    "#Addtional - to count unique number of revies and prodcuts\n",
    "\n",
    "df_2=df_full['ProductId'].value_counts(normalize=True,dropna=True)\n",
    "print(\"Number of Unique Product: \")\n",
    "print(df_2.count())\n",
    "\n",
    "df_3=df_full['ReviewerID'].value_counts(normalize=True,dropna=True)\n",
    "print('Number of Unique Reviewer: ')\n",
    "print(df_3.count())\n",
    "\n"
   ]
  },
  {
   "cell_type": "code",
   "execution_count": 2,
   "metadata": {
    "collapsed": false
   },
   "outputs": [
    {
     "name": "stdout",
     "output_type": "stream",
     "text": [
      "ProductId                  2104471\n",
      "Helpful                    2104471\n",
      "Rating                     2104471\n",
      "ReviewSummary              2101954\n",
      "ReviewDate                 2104471\n",
      "ReviewerID                 2104471\n",
      "Reviewer                   2095234\n",
      "Helpfulness                2104471\n",
      "helpfulness_denominator    2104471\n",
      "helpfulscore               2104471\n",
      "reviewtextcount            2101954\n",
      "ReviewDate_year            2104471\n",
      "ReviewDate_month           2104471\n",
      "ReviewDate_date            2104471\n",
      "ReviewDate_formatted       2104471\n",
      "day_of_week                2104471\n",
      "title                      2042638\n",
      "price                      2104471\n",
      "dtype: int64\n"
     ]
    }
   ],
   "source": [
    "#Addtional - to get the number of helpfulness score >0 of reviews\n",
    "\n",
    "df_4 = df_full[df_full['helpfulscore']>0.5]\n",
    "\n",
    "print(df_4.count())\n",
    "\n"
   ]
  },
  {
   "cell_type": "markdown",
   "metadata": {},
   "source": [
    "inputyear= input(\"Pls input year(2012/2013/2014): \")\n",
    "df_full_yearly = df_full[df_full['ReviewDate_year'].str.strip() == inputyear]\n",
    "\n",
    "df_price_rating_product = df_full_yearly[['price','Rating','ProductId']].groupby(['ProductId']).agg('mean')\n",
    "print(df_price_rating_product.head())"
   ]
  }
 ],
 "metadata": {
  "kernelspec": {
   "display_name": "Python 3",
   "language": "python",
   "name": "python3"
  },
  "language_info": {
   "codemirror_mode": {
    "name": "ipython",
    "version": 3
   },
   "file_extension": ".py",
   "mimetype": "text/x-python",
   "name": "python",
   "nbconvert_exporter": "python",
   "pygments_lexer": "ipython3",
   "version": "3.4.3"
  }
 },
 "nbformat": 4,
 "nbformat_minor": 0
}
