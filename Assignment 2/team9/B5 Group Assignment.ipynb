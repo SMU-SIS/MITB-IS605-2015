{
 "cells": [
  {
   "cell_type": "code",
   "execution_count": 2,
   "metadata": {
    "collapsed": false
   },
   "outputs": [
    {
     "name": "stdout",
     "output_type": "stream",
     "text": [
      "It took 1815.3226988315582 seconds.\n"
     ]
    }
   ],
   "source": [
    "%matplotlib inline\n",
    "%run 'B5GroupAssignment.py'"
   ]
  },
  {
   "cell_type": "code",
   "execution_count": 1,
   "metadata": {
    "collapsed": false,
    "scrolled": true
   },
   "outputs": [],
   "source": [
    "import time\n",
    "start = time.time()\n",
    "%matplotlib inline\n",
    "import pandas as pd\n",
    "import matplotlib.pyplot as plt\n",
    "RawData = pd.read_csv('data.csv',header = 0)"
   ]
  },
  {
   "cell_type": "code",
   "execution_count": 2,
   "metadata": {
    "collapsed": false
   },
   "outputs": [
    {
     "data": {
      "text/plain": [
       "6622629"
      ]
     },
     "execution_count": 2,
     "metadata": {},
     "output_type": "execute_result"
    }
   ],
   "source": [
    "len(RawData.srch_id)"
   ]
  },
  {
   "cell_type": "code",
   "execution_count": 3,
   "metadata": {
    "collapsed": false
   },
   "outputs": [
    {
     "data": {
      "text/plain": [
       "5         0.620630\n",
       "14        0.097991\n",
       "15        0.062895\n",
       "24        0.047529\n",
       "32        0.035860\n",
       "others    0.135095\n",
       "dtype: float64"
      ]
     },
     "execution_count": 3,
     "metadata": {},
     "output_type": "execute_result"
    }
   ],
   "source": [
    "top5site = RawData.site_id.value_counts(sort = True,ascending=False,normalize=True).head(5)\n",
    "site_pct = top5site\n",
    "site_pct.set_value(\"others\",1-sum(top5site))"
   ]
  },
  {
   "cell_type": "code",
   "execution_count": 4,
   "metadata": {
    "collapsed": false
   },
   "outputs": [
    {
     "data": {
      "text/plain": [
       "([<matplotlib.patches.Wedge at 0x95a6908>,\n",
       "  <matplotlib.patches.Wedge at 0x9626ac8>,\n",
       "  <matplotlib.patches.Wedge at 0x96dad30>,\n",
       "  <matplotlib.patches.Wedge at 0x970df98>,\n",
       "  <matplotlib.patches.Wedge at 0x5169240>,\n",
       "  <matplotlib.patches.Wedge at 0x51c24a8>],\n",
       " [<matplotlib.text.Text at 0x95a6f98>,\n",
       "  <matplotlib.text.Text at 0x96da2e8>,\n",
       "  <matplotlib.text.Text at 0x970d550>,\n",
       "  <matplotlib.text.Text at 0x97a87b8>,\n",
       "  <matplotlib.text.Text at 0x5169a20>,\n",
       "  <matplotlib.text.Text at 0x51c2c50>],\n",
       " [<matplotlib.text.Text at 0x9626588>,\n",
       "  <matplotlib.text.Text at 0x96da7f0>,\n",
       "  <matplotlib.text.Text at 0x970da58>,\n",
       "  <matplotlib.text.Text at 0x97a8cc0>,\n",
       "  <matplotlib.text.Text at 0x5169f28>,\n",
       "  <matplotlib.text.Text at 0x5202160>])"
      ]
     },
     "execution_count": 4,
     "metadata": {},
     "output_type": "execute_result"
    },
    {
     "data": {
      "image/png": "[encoded data removed]",
      "text/plain": [
       "<matplotlib.figure.Figure at 0x4f60b00>"
      ]
     },
     "metadata": {},
     "output_type": "display_data"
    }
   ],
   "source": [
    "# which sub-websites did the click mainly come from?\n",
    "# plt.bar(top10site.index,top10site)\n",
    "plt.pie(site_pct,labels = site_pct.index,autopct='%1.1f%%')"
   ]
  },
  {
   "cell_type": "code",
   "execution_count": 5,
   "metadata": {
    "collapsed": false
   },
   "outputs": [
    {
     "data": {
      "text/html": [
       "<div>\n",
       "<table border=\"1\" class=\"dataframe\">\n",
       "  <thead>\n",
       "    <tr style=\"text-align: right;\">\n",
       "      <th></th>\n",
       "      <th>srch_id</th>\n",
       "      <th>date_time</th>\n",
       "      <th>site_id</th>\n",
       "      <th>visitor_location_country_id</th>\n",
       "      <th>visitor_hist_starrating</th>\n",
       "      <th>visitor_hist_adr_usd</th>\n",
       "      <th>prop_country_id</th>\n",
       "      <th>prop_id</th>\n",
       "      <th>prop_starrating</th>\n",
       "      <th>prop_review_score</th>\n",
       "      <th>...</th>\n",
       "      <th>comp5_rate_percent_diff</th>\n",
       "      <th>comp6_rate</th>\n",
       "      <th>comp6_inv</th>\n",
       "      <th>comp6_rate_percent_diff</th>\n",
       "      <th>comp7_rate</th>\n",
       "      <th>comp7_inv</th>\n",
       "      <th>comp7_rate_percent_diff</th>\n",
       "      <th>comp8_rate</th>\n",
       "      <th>comp8_inv</th>\n",
       "      <th>comp8_rate_percent_diff</th>\n",
       "    </tr>\n",
       "  </thead>\n",
       "  <tbody>\n",
       "    <tr>\n",
       "      <th>0</th>\n",
       "      <td>2</td>\n",
       "      <td>2012-11-05 21:28:38</td>\n",
       "      <td>15</td>\n",
       "      <td>55</td>\n",
       "      <td>NaN</td>\n",
       "      <td>NaN</td>\n",
       "      <td>98</td>\n",
       "      <td>3105</td>\n",
       "      <td>3</td>\n",
       "      <td>2.0</td>\n",
       "      <td>...</td>\n",
       "      <td>NaN</td>\n",
       "      <td>NaN</td>\n",
       "      <td>NaN</td>\n",
       "      <td>NaN</td>\n",
       "      <td>NaN</td>\n",
       "      <td>NaN</td>\n",
       "      <td>NaN</td>\n",
       "      <td>NaN</td>\n",
       "      <td>NaN</td>\n",
       "      <td>NaN</td>\n",
       "    </tr>\n",
       "    <tr>\n",
       "      <th>1</th>\n",
       "      <td>2</td>\n",
       "      <td>2012-11-05 21:28:38</td>\n",
       "      <td>15</td>\n",
       "      <td>55</td>\n",
       "      <td>NaN</td>\n",
       "      <td>NaN</td>\n",
       "      <td>98</td>\n",
       "      <td>6399</td>\n",
       "      <td>3</td>\n",
       "      <td>0.0</td>\n",
       "      <td>...</td>\n",
       "      <td>NaN</td>\n",
       "      <td>NaN</td>\n",
       "      <td>NaN</td>\n",
       "      <td>NaN</td>\n",
       "      <td>NaN</td>\n",
       "      <td>NaN</td>\n",
       "      <td>NaN</td>\n",
       "      <td>NaN</td>\n",
       "      <td>NaN</td>\n",
       "      <td>NaN</td>\n",
       "    </tr>\n",
       "    <tr>\n",
       "      <th>2</th>\n",
       "      <td>2</td>\n",
       "      <td>2012-11-05 21:28:38</td>\n",
       "      <td>15</td>\n",
       "      <td>55</td>\n",
       "      <td>NaN</td>\n",
       "      <td>NaN</td>\n",
       "      <td>98</td>\n",
       "      <td>7374</td>\n",
       "      <td>4</td>\n",
       "      <td>3.5</td>\n",
       "      <td>...</td>\n",
       "      <td>NaN</td>\n",
       "      <td>NaN</td>\n",
       "      <td>NaN</td>\n",
       "      <td>NaN</td>\n",
       "      <td>NaN</td>\n",
       "      <td>NaN</td>\n",
       "      <td>NaN</td>\n",
       "      <td>NaN</td>\n",
       "      <td>NaN</td>\n",
       "      <td>NaN</td>\n",
       "    </tr>\n",
       "  </tbody>\n",
       "</table>\n",
       "<p>3 rows × 50 columns</p>\n",
       "</div>"
      ],
      "text/plain": [
       "   srch_id            date_time  site_id  visitor_location_country_id  \\\n",
       "0        2  2012-11-05 21:28:38       15                           55   \n",
       "1        2  2012-11-05 21:28:38       15                           55   \n",
       "2        2  2012-11-05 21:28:38       15                           55   \n",
       "\n",
       "   visitor_hist_starrating  visitor_hist_adr_usd  prop_country_id  prop_id  \\\n",
       "0                      NaN                   NaN               98     3105   \n",
       "1                      NaN                   NaN               98     6399   \n",
       "2                      NaN                   NaN               98     7374   \n",
       "\n",
       "   prop_starrating  prop_review_score           ...             \\\n",
       "0                3                2.0           ...              \n",
       "1                3                0.0           ...              \n",
       "2                4                3.5           ...              \n",
       "\n",
       "   comp5_rate_percent_diff  comp6_rate  comp6_inv  comp6_rate_percent_diff  \\\n",
       "0                      NaN         NaN        NaN                      NaN   \n",
       "1                      NaN         NaN        NaN                      NaN   \n",
       "2                      NaN         NaN        NaN                      NaN   \n",
       "\n",
       "   comp7_rate  comp7_inv  comp7_rate_percent_diff  comp8_rate  comp8_inv  \\\n",
       "0         NaN        NaN                      NaN         NaN        NaN   \n",
       "1         NaN        NaN                      NaN         NaN        NaN   \n",
       "2         NaN        NaN                      NaN         NaN        NaN   \n",
       "\n",
       "   comp8_rate_percent_diff  \n",
       "0                      NaN  \n",
       "1                      NaN  \n",
       "2                      NaN  \n",
       "\n",
       "[3 rows x 50 columns]"
      ]
     },
     "execution_count": 5,
     "metadata": {},
     "output_type": "execute_result"
    }
   ],
   "source": [
    "RawData[:3]"
   ]
  },
  {
   "cell_type": "code",
   "execution_count": null,
   "metadata": {
    "collapsed": false
   },
   "outputs": [],
   "source": [
    "# focusing on the top 5 site_id\n",
    "data = RawData.loc[RawData[\"site_id\"].isin(top5site.index)]\n",
    "cols = [c for c in data.columns if not c.startswith('comp')]\n",
    "SearchData = data[cols]\n",
    "SearchData[:3]"
   ]
  },
  {
   "cell_type": "code",
   "execution_count": 7,
   "metadata": {
    "collapsed": false
   },
   "outputs": [
    {
     "data": {
      "text/plain": [
       "227835"
      ]
     },
     "execution_count": 7,
     "metadata": {},
     "output_type": "execute_result"
    }
   ],
   "source": [
    "len(SearchData.srch_id.unique())"
   ]
  },
  {
   "cell_type": "code",
   "execution_count": 8,
   "metadata": {
    "collapsed": false
   },
   "outputs": [],
   "source": [
    "#SearchData.sort(['date_time'],ascending = 1)"
   ]
  },
  {
   "cell_type": "code",
   "execution_count": 9,
   "metadata": {
    "collapsed": false
   },
   "outputs": [
    {
     "data": {
      "text/plain": [
       "['2012-11-01 00:03:24', '2013-06-30 23:55:46']"
      ]
     },
     "execution_count": 9,
     "metadata": {},
     "output_type": "execute_result"
    }
   ],
   "source": [
    "# Time range of the search data (from 2012-11-01 to 2013-06-30)\n",
    "[min(SearchData['date_time']),max(SearchData['date_time'])]\n"
   ]
  },
  {
   "cell_type": "code",
   "execution_count": null,
   "metadata": {
    "collapsed": false
   },
   "outputs": [],
   "source": [
    "Search_record = SearchData[[\"srch_id\",\"date_time\",\"site_id\",\"visitor_location_country_id\",\"visitor_hist_starrating\",\"visitor_hist_adr_usd\"]].drop_duplicates()"
   ]
  },
  {
   "cell_type": "code",
   "execution_count": 11,
   "metadata": {
    "collapsed": false
   },
   "outputs": [],
   "source": [
    "#Search_record.sort(['date_time'],ascending = 1)"
   ]
  },
  {
   "cell_type": "code",
   "execution_count": 12,
   "metadata": {
    "collapsed": false
   },
   "outputs": [
    {
     "data": {
      "text/plain": [
       "<matplotlib.text.Text at 0x1bbfe9e8>"
      ]
     },
     "execution_count": 12,
     "metadata": {},
     "output_type": "execute_result"
    },
    {
     "data": {
      "image/png": "[encoded data removed]",
      "text/plain": [
       "<matplotlib.figure.Figure at 0x54522b0>"
      ]
     },
     "metadata": {},
     "output_type": "display_data"
    }
   ],
   "source": [
    "s = pd.to_datetime(Search_record['date_time'])\n",
    "Search_record['date_time'] = s.map(lambda x: x.strftime('%Y-%m-%d'))\n",
    "Search_record = Search_record.sort(['date_time'],ascending=1)\n",
    "Search_record.set_index(['date_time']);\n",
    "search_count = Search_record.groupby('date_time').count()\n",
    "search_count.index = pd.to_datetime(search_count.index)\n",
    "user_count = search_count.sort_index()\n",
    "user_count['no_of_users'] = user_count['srch_id']\n",
    "user_count['no_of_logged users'] = user_count[['visitor_hist_starrating','visitor_hist_adr_usd']].max(axis=1)\n",
    "plt.plot(user_count.index,user_count['no_of_users'],label = 'Users')\n",
    "plt.plot(user_count.index,user_count['no_of_logged users'],label = 'Logged users')\n",
    "plt.setp(plt.xticks()[1], rotation=30, ha='right')\n",
    "legend = plt.legend(loc='upper left', shadow=True)\n",
    "plt.xlabel('Day')\n",
    "plt.ylabel('Total Number of users')\n",
    "plt.title('No of users by day')"
   ]
  },
  {
   "cell_type": "code",
   "execution_count": 13,
   "metadata": {
    "collapsed": false
   },
   "outputs": [
    {
     "data": {
      "text/plain": [
       "<matplotlib.text.Text at 0xb4393438>"
      ]
     },
     "execution_count": 13,
     "metadata": {},
     "output_type": "execute_result"
    },
    {
     "data": {
      "image/png": "[encoded data removed]",
      "text/plain": [
       "<matplotlib.figure.Figure at 0xb4391470>"
      ]
     },
     "metadata": {},
     "output_type": "display_data"
    }
   ],
   "source": [
    "Search_by_month = Search_record\n",
    "s = pd.to_datetime(Search_by_month['date_time'])\n",
    "Search_by_month['date_time'] = s.map(lambda x: x.strftime('%Y-%m'))\n",
    "Search_by_month = Search_by_month.sort(['date_time'],ascending=1)\n",
    "Search_by_month.set_index(['date_time']);\n",
    "count_by_month = Search_by_month.groupby('date_time').count()\n",
    "count_by_month['no_of_users'] = count_by_month['srch_id']\n",
    "count_by_month['no_of_logged users'] = count_by_month[['visitor_hist_starrating','visitor_hist_adr_usd']].max(axis=1)\n",
    "import numpy as np\n",
    "ind = np.arange(len(count_by_month['no_of_users']))\n",
    "width = .35\n",
    "plt.bar(ind, count_by_month['no_of_users'],color = 'lightblue')\n",
    "plt.xticks(ind + width / 2, count_by_month.index)\n",
    "plt.setp(plt.xticks()[1], rotation=30, ha='right')\n",
    "plt.xlabel('Month')\n",
    "plt.ylabel('No of search')\n",
    "plt.title('Count of users by month')"
   ]
  },
  {
   "cell_type": "code",
   "execution_count": 14,
   "metadata": {
    "collapsed": false
   },
   "outputs": [
    {
     "data": {
      "text/plain": [
       "3.3112211192128655"
      ]
     },
     "execution_count": 14,
     "metadata": {},
     "output_type": "execute_result"
    }
   ],
   "source": [
    "# extact users with histstar\n",
    "Star_preference = SearchData[np.isfinite(SearchData['visitor_hist_starrating'])]\n",
    "Star_preference = Star_preference[[\"srch_id\",\"date_time\",\"site_id\",\"visitor_location_country_id\",\"visitor_hist_starrating\",\"visitor_hist_adr_usd\"]].drop_duplicates()\n",
    "# the average star preference for frequent users\n",
    "Star_preference['visitor_hist_starrating'].mean()"
   ]
  },
  {
   "cell_type": "code",
   "execution_count": 15,
   "metadata": {
    "collapsed": false
   },
   "outputs": [
    {
     "data": {
      "text/plain": [
       "174.45617002705822"
      ]
     },
     "execution_count": 15,
     "metadata": {},
     "output_type": "execute_result"
    }
   ],
   "source": [
    "# extract users with hist price\n",
    "Price_preference = SearchData[np.isfinite(SearchData['visitor_hist_adr_usd'])]\n",
    "Price_preference = Price_preference[[\"srch_id\",\"date_time\",\"site_id\",\"visitor_location_country_id\",\"visitor_hist_starrating\",\"visitor_hist_adr_usd\"]].drop_duplicates()\n",
    "# the average price for frequent users\n",
    "Price_preference['visitor_hist_adr_usd'].mean()"
   ]
  },
  {
   "cell_type": "code",
   "execution_count": 16,
   "metadata": {
    "collapsed": false
   },
   "outputs": [
    {
     "data": {
      "text/plain": [
       "<matplotlib.text.Text at 0xb3682940>"
      ]
     },
     "execution_count": 16,
     "metadata": {},
     "output_type": "execute_result"
    },
    {
     "data": {
      "image/png": "[encoded data removed]",
      "text/plain": [
       "<matplotlib.figure.Figure at 0x1b98cd30>"
      ]
     },
     "metadata": {},
     "output_type": "display_data"
    }
   ],
   "source": [
    "data = Star_preference.visitor_hist_starrating.value_counts(bins=[0,1,2,3,4,5])\n",
    "plt.bar(data.index,data,color = 'lightgreen')\n",
    "plt.xlabel('Star')\n",
    "plt.ylabel('No of frequent users')\n",
    "plt.title('Distribution of frequent users by star')"
   ]
  },
  {
   "cell_type": "code",
   "execution_count": null,
   "metadata": {
    "collapsed": false
   },
   "outputs": [],
   "source": [
    "# description table of preferred star and price by frequent users\n",
    "Price_preference[['visitor_hist_starrating','visitor_hist_adr_usd']].describe()"
   ]
  },
  {
   "cell_type": "code",
   "execution_count": null,
   "metadata": {
    "collapsed": true
   },
   "outputs": [],
   "source": [
    "print('It took', time.time()-start, 'seconds.')"
   ]
  }
 ],
 "metadata": {
  "kernelspec": {
   "display_name": "Python 3",
   "language": "python",
   "name": "python3"
  },
  "language_info": {
   "codemirror_mode": {
    "name": "ipython",
    "version": 3
   },
   "file_extension": ".py",
   "mimetype": "text/x-python",
   "name": "python",
   "nbconvert_exporter": "python",
   "pygments_lexer": "ipython3",
   "version": "3.4.3"
  }
 },
 "nbformat": 4,
 "nbformat_minor": 0
}
