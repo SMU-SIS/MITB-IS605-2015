{
 "cells": [
  {
   "cell_type": "code",
   "execution_count": null,
   "metadata": {
    "collapsed": true
   },
   "outputs": [],
   "source": [
    "import scipy\n",
    "import numpy\n",
    "import recsys\n",
    "import pysparse divisi2\n",
    "\n",
    "from recsys.algorithm.factorize import SVD\n",
    "svd = SVD()\n",
    "svd.load_data(filename='./data/movielens/ratings.dat',\n",
    "            sep='::',\n",
    "            format={'col':0, 'row':1, 'value':2, 'ids': int})\n",
    "\n",
    "k = 100\n",
    "svd.compute(k=k,\n",
    "            min_values=10,\n",
    "            pre_normalize=None,\n",
    "            mean_center=True,\n",
    "            post_normalize=True,\n",
    "            savefile='/D:/movielens')\n",
    "svd.similarity(1, 2355)\n",
    "svd.similar(1)\n",
    "svd.recommend(1, is_row=False)\n",
    "svd.recommend(1)"
   ]
  }
 ],
 "metadata": {
  "kernelspec": {
   "display_name": "Python 3",
   "language": "python",
   "name": "python3"
  },
  "language_info": {
   "codemirror_mode": {
    "name": "ipython",
    "version": 3
   },
   "file_extension": ".py",
   "mimetype": "text/x-python",
   "name": "python",
   "nbconvert_exporter": "python",
   "pygments_lexer": "ipython3",
   "version": "3.4.3"
  }
 },
 "nbformat": 4,
 "nbformat_minor": 0
}
