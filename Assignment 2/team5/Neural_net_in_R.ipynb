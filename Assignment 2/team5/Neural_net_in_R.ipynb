{
 "cells": [
  {
   "cell_type": "code",
   "execution_count": 1,
   "metadata": {
    "collapsed": false
   },
   "outputs": [
    {
     "name": "stdout",
     "output_type": "stream",
     "text": [
      "[1] \"Fri Nov  6 16:10:55 2015\"\n"
     ]
    }
   ],
   "source": [
    "#Print start time\n",
    "print(date())"
   ]
  },
  {
   "cell_type": "code",
   "execution_count": 2,
   "metadata": {
    "collapsed": false
   },
   "outputs": [
    {
     "name": "stderr",
     "output_type": "stream",
     "text": [
      "Loading required package: grid\n",
      "Loading required package: MASS\n"
     ]
    }
   ],
   "source": [
    "# Set the seed of R‘s random number generator\n",
    "set.seed(1234567890)\n",
    "\n",
    "library(\"neuralnet\")"
   ]
  },
  {
   "cell_type": "code",
   "execution_count": 3,
   "metadata": {
    "collapsed": false
   },
   "outputs": [
    {
     "name": "stdout",
     "output_type": "stream",
     "text": [
      "[1] 609064\n"
     ]
    }
   ],
   "source": [
    "dataset <- read.csv(\"merge_all.csv\", header=TRUE, stringsAsFactors=FALSE)\n",
    "# Split the dataset into train and validation sets in 70:30 ratio\n",
    "index <- round(0.7*nrow(dataset))\n",
    "trainset <- dataset[1:index, ]\n",
    "validset <- dataset[(index+1):nrow(dataset), ]\n",
    "\n",
    "print(nrow(dataset))"
   ]
  },
  {
   "cell_type": "code",
   "execution_count": 4,
   "metadata": {
    "collapsed": false
   },
   "outputs": [
    {
     "name": "stdout",
     "output_type": "stream",
     "text": [
      "hidden: 4    thresh: 0.1    rep: 1/1    steps:    6258\terror: 31376.84186\ttime: 1.15 hours\n"
     ]
    },
    {
     "data": {
      "text/plain": [
       "                    Length  Class      Mode    \n",
       "call                      7 -none-     call    \n",
       "response            2558070 -none-     numeric \n",
       "covariate           2984415 -none-     numeric \n",
       "model.list                2 -none-     list    \n",
       "err.fct                   1 -none-     function\n",
       "act.fct                   1 -none-     function\n",
       "linear.output             1 -none-     logical \n",
       "data                     39 data.frame list    \n",
       "net.result                1 -none-     list    \n",
       "weights                   1 -none-     list    \n",
       "startweights              1 -none-     list    \n",
       "generalized.weights       1 -none-     list    \n",
       "result.matrix            65 -none-     numeric "
      ]
     },
     "execution_count": 4,
     "metadata": {},
     "output_type": "execute_result"
    }
   ],
   "source": [
    "# Build the neural network (NN)\n",
    "eventNet <- neuralnet(HandStart + FirstDigitTouch + BothStartLoadPhase +\n",
    "                        LiftOff + Replace + BothReleased\n",
    "                      ~ Fp1 + Fp2 + F7 + F3 + Fz + F4 + F8, \n",
    "                      trainset, hidden = 4, lifesign = \"minimal\", \n",
    "                      linear.output = FALSE, threshold = 0.1)\n",
    "\n",
    "summary(eventNet)"
   ]
  },
  {
   "cell_type": "code",
   "execution_count": 5,
   "metadata": {
    "collapsed": false
   },
   "outputs": [
    {
     "data": {
      "text/html": [
       "<table>\n",
       "<thead><tr><th></th><th scope=col>prediction.HandStart</th><th scope=col>prediction.FirstDigitTouch</th><th scope=col>prediction.BothStartLoadPhase</th><th scope=col>prediction.LiftOff</th><th scope=col>prediction.Replace</th><th scope=col>prediction.BothReleased</th></tr></thead>\n",
       "<tbody>\n",
       "\t<tr><th scope=row>426346</th><td>0.02878042574</td><td>0.02009173095</td><td>0.02290924053</td><td>0.02670481058</td><td>0.009573084229</td><td>0.01452794915</td></tr>\n",
       "\t<tr><th scope=row>426347</th><td>0.02878042574</td><td>0.02009173095</td><td>0.02290924053</td><td>0.02670481058</td><td>0.009573084229</td><td>0.01452794915</td></tr>\n",
       "\t<tr><th scope=row>426348</th><td>0.02878042574</td><td>0.02009173095</td><td>0.02290924053</td><td>0.02670481058</td><td>0.009573084229</td><td>0.01452794915</td></tr>\n",
       "\t<tr><th scope=row>426349</th><td>0.02878042574</td><td>0.02009173095</td><td>0.02290924053</td><td>0.02670481058</td><td>0.009573084229</td><td>0.01452794915</td></tr>\n",
       "\t<tr><th scope=row>426350</th><td>0.02878042574</td><td>0.02009173095</td><td>0.02290924053</td><td>0.02670481058</td><td>0.009573084229</td><td>0.01452794915</td></tr>\n",
       "\t<tr><th scope=row>426351</th><td>0.02878042574</td><td>0.02009173095</td><td>0.02290924053</td><td>0.02670481058</td><td>0.009573084229</td><td>0.01452794915</td></tr>\n",
       "</tbody>\n",
       "</table>\n"
      ],
      "text/latex": [
       "\\begin{tabular}{r|llllll}\n",
       "  & prediction.HandStart & prediction.FirstDigitTouch & prediction.BothStartLoadPhase & prediction.LiftOff & prediction.Replace & prediction.BothReleased\\\\\n",
       "\\hline\n",
       "\t426346 & 0.02878042574 & 0.02009173095 & 0.02290924053 & 0.02670481058 & 0.009573084229 & 0.01452794915\\\\\n",
       "\t426347 & 0.02878042574 & 0.02009173095 & 0.02290924053 & 0.02670481058 & 0.009573084229 & 0.01452794915\\\\\n",
       "\t426348 & 0.02878042574 & 0.02009173095 & 0.02290924053 & 0.02670481058 & 0.009573084229 & 0.01452794915\\\\\n",
       "\t426349 & 0.02878042574 & 0.02009173095 & 0.02290924053 & 0.02670481058 & 0.009573084229 & 0.01452794915\\\\\n",
       "\t426350 & 0.02878042574 & 0.02009173095 & 0.02290924053 & 0.02670481058 & 0.009573084229 & 0.01452794915\\\\\n",
       "\t426351 & 0.02878042574 & 0.02009173095 & 0.02290924053 & 0.02670481058 & 0.009573084229 & 0.01452794915\\\\\n",
       "\\end{tabular}\n"
      ],
      "text/plain": [
       "       prediction.HandStart prediction.FirstDigitTouch\n",
       "426346        0.02878042574              0.02009173095\n",
       "426347        0.02878042574              0.02009173095\n",
       "426348        0.02878042574              0.02009173095\n",
       "426349        0.02878042574              0.02009173095\n",
       "426350        0.02878042574              0.02009173095\n",
       "426351        0.02878042574              0.02009173095\n",
       "       prediction.BothStartLoadPhase prediction.LiftOff prediction.Replace\n",
       "426346                 0.02290924053      0.02670481058     0.009573084229\n",
       "426347                 0.02290924053      0.02670481058     0.009573084229\n",
       "426348                 0.02290924053      0.02670481058     0.009573084229\n",
       "426349                 0.02290924053      0.02670481058     0.009573084229\n",
       "426350                 0.02290924053      0.02670481058     0.009573084229\n",
       "426351                 0.02290924053      0.02670481058     0.009573084229\n",
       "       prediction.BothReleased\n",
       "426346           0.01452794915\n",
       "426347           0.01452794915\n",
       "426348           0.01452794915\n",
       "426349           0.01452794915\n",
       "426350           0.01452794915\n",
       "426351           0.01452794915"
      ]
     },
     "execution_count": 5,
     "metadata": {},
     "output_type": "execute_result"
    }
   ],
   "source": [
    "# Test the resulting output\n",
    "# 1. Subset of only the predictor variables\n",
    "# 2. Apply model on validation set\n",
    "# 3. Compare actual vs predicted results\n",
    "temp_valid <- subset(validset, select = c(\"Fp1\",\"Fp2\",\"F7\",\"F3\",\"Fz\",\"F4\",\"F8\"))\n",
    "eventNet.results <- compute(eventNet, temp_valid)\n",
    "\n",
    "# Multi class classifier\n",
    "prediction.results <- data.frame(prediction = eventNet.results$net.result)\n",
    "names(prediction.results)[1] <- \"prediction.HandStart\"\n",
    "names(prediction.results)[2] <- \"prediction.FirstDigitTouch\"\n",
    "names(prediction.results)[3] <- \"prediction.BothStartLoadPhase\"\n",
    "names(prediction.results)[4] <- \"prediction.LiftOff\"\n",
    "names(prediction.results)[5] <- \"prediction.Replace\"\n",
    "names(prediction.results)[6] <- \"prediction.BothReleased\"\n",
    "head(prediction.results)"
   ]
  },
  {
   "cell_type": "code",
   "execution_count": 6,
   "metadata": {
    "collapsed": false
   },
   "outputs": [
    {
     "data": {
      "text/html": [
       "<table>\n",
       "<thead><tr><th></th><th scope=col>prediction.HandStart</th><th scope=col>prediction.FirstDigitTouch</th><th scope=col>prediction.BothStartLoadPhase</th><th scope=col>prediction.LiftOff</th><th scope=col>prediction.Replace</th><th scope=col>prediction.BothReleased</th></tr></thead>\n",
       "<tbody>\n",
       "\t<tr><th scope=row>426346</th><td>0</td><td>0</td><td>0</td><td>0</td><td>0</td><td>0</td></tr>\n",
       "\t<tr><th scope=row>426347</th><td>0</td><td>0</td><td>0</td><td>0</td><td>0</td><td>0</td></tr>\n",
       "\t<tr><th scope=row>426348</th><td>0</td><td>0</td><td>0</td><td>0</td><td>0</td><td>0</td></tr>\n",
       "\t<tr><th scope=row>426349</th><td>0</td><td>0</td><td>0</td><td>0</td><td>0</td><td>0</td></tr>\n",
       "\t<tr><th scope=row>426350</th><td>0</td><td>0</td><td>0</td><td>0</td><td>0</td><td>0</td></tr>\n",
       "\t<tr><th scope=row>426351</th><td>0</td><td>0</td><td>0</td><td>0</td><td>0</td><td>0</td></tr>\n",
       "</tbody>\n",
       "</table>\n"
      ],
      "text/latex": [
       "\\begin{tabular}{r|llllll}\n",
       "  & prediction.HandStart & prediction.FirstDigitTouch & prediction.BothStartLoadPhase & prediction.LiftOff & prediction.Replace & prediction.BothReleased\\\\\n",
       "\\hline\n",
       "\t426346 & 0 & 0 & 0 & 0 & 0 & 0\\\\\n",
       "\t426347 & 0 & 0 & 0 & 0 & 0 & 0\\\\\n",
       "\t426348 & 0 & 0 & 0 & 0 & 0 & 0\\\\\n",
       "\t426349 & 0 & 0 & 0 & 0 & 0 & 0\\\\\n",
       "\t426350 & 0 & 0 & 0 & 0 & 0 & 0\\\\\n",
       "\t426351 & 0 & 0 & 0 & 0 & 0 & 0\\\\\n",
       "\\end{tabular}\n"
      ],
      "text/plain": [
       "       prediction.HandStart prediction.FirstDigitTouch\n",
       "426346                    0                          0\n",
       "426347                    0                          0\n",
       "426348                    0                          0\n",
       "426349                    0                          0\n",
       "426350                    0                          0\n",
       "426351                    0                          0\n",
       "       prediction.BothStartLoadPhase prediction.LiftOff prediction.Replace\n",
       "426346                             0                  0                  0\n",
       "426347                             0                  0                  0\n",
       "426348                             0                  0                  0\n",
       "426349                             0                  0                  0\n",
       "426350                             0                  0                  0\n",
       "426351                             0                  0                  0\n",
       "       prediction.BothReleased\n",
       "426346                       0\n",
       "426347                       0\n",
       "426348                       0\n",
       "426349                       0\n",
       "426350                       0\n",
       "426351                       0"
      ]
     },
     "execution_count": 6,
     "metadata": {},
     "output_type": "execute_result"
    }
   ],
   "source": [
    "# Round the prediction results\n",
    "prediction.results.round <- round(prediction.results)  \n",
    "head(prediction.results.round)"
   ]
  },
  {
   "cell_type": "code",
   "execution_count": 7,
   "metadata": {
    "collapsed": false
   },
   "outputs": [
    {
     "data": {
      "text/html": [
       "<ol class=list-inline>\n",
       "\t<li>'none'</li>\n",
       "\t<li>'none'</li>\n",
       "\t<li>'none'</li>\n",
       "\t<li>'none'</li>\n",
       "\t<li>'none'</li>\n",
       "\t<li>'none'</li>\n",
       "</ol>\n"
      ],
      "text/latex": [
       "\\begin{enumerate*}\n",
       "\\item 'none'\n",
       "\\item 'none'\n",
       "\\item 'none'\n",
       "\\item 'none'\n",
       "\\item 'none'\n",
       "\\item 'none'\n",
       "\\end{enumerate*}\n"
      ],
      "text/markdown": [
       "1. 'none'\n",
       "2. 'none'\n",
       "3. 'none'\n",
       "4. 'none'\n",
       "5. 'none'\n",
       "6. 'none'\n",
       "\n",
       "\n"
      ],
      "text/plain": [
       "[1] \"none\" \"none\" \"none\" \"none\" \"none\" \"none\""
      ]
     },
     "execution_count": 7,
     "metadata": {},
     "output_type": "execute_result"
    }
   ],
   "source": [
    "# Put multiple binary output to categorical output\n",
    "# Below function assumes the events are mutually exclusive\n",
    "maxidx <- function(arr) {\n",
    "  idx <- 0\n",
    "  if (max(arr) == 0) idx <- 7 \n",
    "  else idx <- which(arr == max(arr))\n",
    "  return (idx)\n",
    "}\n",
    "\n",
    "prediction.idx <- apply(prediction.results.round, c(1), maxidx)\n",
    "prediction <- c('handStart', 'firstDigitTouch', 'bothStartLoadPhase',\n",
    "                'liftOff', 'replace', 'bothReleased', 'none')[prediction.idx]\n",
    "head(prediction)"
   ]
  },
  {
   "cell_type": "code",
   "execution_count": 8,
   "metadata": {
    "collapsed": false
   },
   "outputs": [
    {
     "data": {
      "text/html": [
       "<table>\n",
       "<thead><tr><th></th><th scope=col>handStart</th><th scope=col>firstDigitTouch</th><th scope=col>bothStartLoadPhase</th><th scope=col>liftOff</th><th scope=col>replace</th><th scope=col>bothReleased</th><th scope=col>none</th></tr></thead>\n",
       "<tbody>\n",
       "\t<tr><th scope=row>426346</th><td>0</td><td>0</td><td>0</td><td>0</td><td>0</td><td>0</td><td>TRUE</td></tr>\n",
       "\t<tr><th scope=row>426347</th><td>0</td><td>0</td><td>0</td><td>0</td><td>0</td><td>0</td><td>TRUE</td></tr>\n",
       "\t<tr><th scope=row>426348</th><td>0</td><td>0</td><td>0</td><td>0</td><td>0</td><td>0</td><td>TRUE</td></tr>\n",
       "\t<tr><th scope=row>426349</th><td>0</td><td>0</td><td>0</td><td>0</td><td>0</td><td>0</td><td>TRUE</td></tr>\n",
       "\t<tr><th scope=row>426350</th><td>0</td><td>0</td><td>0</td><td>0</td><td>0</td><td>0</td><td>TRUE</td></tr>\n",
       "\t<tr><th scope=row>426351</th><td>0</td><td>0</td><td>0</td><td>0</td><td>0</td><td>0</td><td>TRUE</td></tr>\n",
       "</tbody>\n",
       "</table>\n"
      ],
      "text/latex": [
       "\\begin{tabular}{r|lllllll}\n",
       "  & handStart & firstDigitTouch & bothStartLoadPhase & liftOff & replace & bothReleased & none\\\\\n",
       "\\hline\n",
       "\t426346 & 0 & 0 & 0 & 0 & 0 & 0 & TRUE\\\\\n",
       "\t426347 & 0 & 0 & 0 & 0 & 0 & 0 & TRUE\\\\\n",
       "\t426348 & 0 & 0 & 0 & 0 & 0 & 0 & TRUE\\\\\n",
       "\t426349 & 0 & 0 & 0 & 0 & 0 & 0 & TRUE\\\\\n",
       "\t426350 & 0 & 0 & 0 & 0 & 0 & 0 & TRUE\\\\\n",
       "\t426351 & 0 & 0 & 0 & 0 & 0 & 0 & TRUE\\\\\n",
       "\\end{tabular}\n"
      ],
      "text/plain": [
       "       handStart firstDigitTouch bothStartLoadPhase liftOff replace\n",
       "426346         0               0                  0       0       0\n",
       "426347         0               0                  0       0       0\n",
       "426348         0               0                  0       0       0\n",
       "426349         0               0                  0       0       0\n",
       "426350         0               0                  0       0       0\n",
       "426351         0               0                  0       0       0\n",
       "       bothReleased none\n",
       "426346            0 TRUE\n",
       "426347            0 TRUE\n",
       "426348            0 TRUE\n",
       "426349            0 TRUE\n",
       "426350            0 TRUE\n",
       "426351            0 TRUE"
      ]
     },
     "execution_count": 8,
     "metadata": {},
     "output_type": "execute_result"
    },
    {
     "data": {
      "text/html": [
       "<table>\n",
       "<tbody>\n",
       "\t<tr><td>none</td></tr>\n",
       "\t<tr><td>none</td></tr>\n",
       "\t<tr><td>none</td></tr>\n",
       "\t<tr><td>none</td></tr>\n",
       "\t<tr><td>none</td></tr>\n",
       "\t<tr><td>none</td></tr>\n",
       "</tbody>\n",
       "</table>\n"
      ],
      "text/latex": [
       "\\begin{tabular}{l}\n",
       "\t none\\\\\n",
       "\t none\\\\\n",
       "\t none\\\\\n",
       "\t none\\\\\n",
       "\t none\\\\\n",
       "\t none\\\\\n",
       "\\end{tabular}\n"
      ],
      "text/markdown": [
       "1. 'none'\n",
       "2. 'none'\n",
       "3. 'none'\n",
       "4. 'none'\n",
       "5. 'none'\n",
       "6. 'none'\n",
       "\n",
       "\n"
      ],
      "text/plain": [
       "     [,1]  \n",
       "[1,] \"none\"\n",
       "[2,] \"none\"\n",
       "[3,] \"none\"\n",
       "[4,] \"none\"\n",
       "[5,] \"none\"\n",
       "[6,] \"none\""
      ]
     },
     "execution_count": 8,
     "metadata": {},
     "output_type": "execute_result"
    }
   ],
   "source": [
    "# Issue: apply function did not work on the actual as it returns a list instead of numeric vector\n",
    "# Suspected: http://www.r-bloggers.com/type-conversion-and-you-or-and-r/\n",
    "# Workaround:\n",
    "# Below approach assumes the events are mutually exclusive\n",
    "actual.results <- data.frame(validset[,2:7])\n",
    "names(actual.results)[1] <- \"handStart\"\n",
    "names(actual.results)[2] <- \"firstDigitTouch\"\n",
    "names(actual.results)[3] <- \"bothStartLoadPhase\"\n",
    "names(actual.results)[4] <- \"liftOff\"\n",
    "names(actual.results)[5] <- \"replace\"\n",
    "names(actual.results)[6] <- \"bothReleased\"\n",
    "actual.results$none <- (validset$HandStart == 0) & (validset$FirstDigitTouch == 0) &\n",
    "                        (validset$BothStartLoadPhase == 0) & (validset$LiftOff == 0) &\n",
    "                        (validset$Replace == 0) & (validset$BothReleased == 0)\n",
    "head(actual.results)\n",
    "actual <- cbind(names(actual.results)[max.col(actual.results == 1)])\n",
    "head(actual)"
   ]
  },
  {
   "cell_type": "code",
   "execution_count": 9,
   "metadata": {
    "collapsed": false
   },
   "outputs": [
    {
     "data": {
      "text/plain": [
       "          actual\n",
       "prediction bothReleased bothStartLoadPhase firstDigitTouch handStart liftOff\n",
       "      none         3017               1824            2179      3450    2941\n",
       "          actual\n",
       "prediction   none replace\n",
       "      none 166282    3026"
      ]
     },
     "execution_count": 9,
     "metadata": {},
     "output_type": "execute_result"
    }
   ],
   "source": [
    "table(prediction, actual)"
   ]
  },
  {
   "cell_type": "code",
   "execution_count": 10,
   "metadata": {
    "collapsed": false
   },
   "outputs": [
    {
     "name": "stdout",
     "output_type": "stream",
     "text": [
      "[1] \"Fri Nov  6 17:22:13 2015\"\n"
     ]
    }
   ],
   "source": [
    "#Print end time\n",
    "print(date())"
   ]
  }
 ],
 "metadata": {
  "kernelspec": {
   "display_name": "R",
   "language": "R",
   "name": "ir"
  },
  "language_info": {
   "codemirror_mode": "r",
   "file_extension": ".r",
   "mimetype": "text/x-r-source",
   "name": "R",
   "pygments_lexer": "r",
   "version": "3.2.1"
  }
 },
 "nbformat": 4,
 "nbformat_minor": 0
}
