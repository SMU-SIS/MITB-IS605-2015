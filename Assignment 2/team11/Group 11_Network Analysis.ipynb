{
 "cells": [
  {
   "cell_type": "code",
   "execution_count": 1,
   "metadata": {
    "collapsed": true
   },
   "outputs": [],
   "source": [
    "import numpy as np\n",
    "from pandas import Series, DataFrame\n",
    "import pandas as pd\n",
    "import networkx as nx\n",
    "%matplotlib inline\n",
    "import matplotlib.pyplot as plt\n",
    "from sklearn.metrics.pairwise import cosine_similarity"
   ]
  },
  {
   "cell_type": "code",
   "execution_count": 2,
   "metadata": {
    "collapsed": false
   },
   "outputs": [
    {
     "name": "stdout",
     "output_type": "stream",
     "text": [
      "converted 'https://s3-ap-southeast-1.amazonaws.com/shiyanbigdata/netuser_im_step2_01_07.dat' (ANSI_X3.4-1968) -> 'https://s3-ap-southeast-1.amazonaws.com/shiyanbigdata/netuser_im_step2_01_07.dat' (UTF-8)\n",
      "--2015-11-16 04:09:53--  https://s3-ap-southeast-1.amazonaws.com/shiyanbigdata/netuser_im_step2_01_07.dat\n",
      "Resolving s3-ap-southeast-1.amazonaws.com (s3-ap-southeast-1.amazonaws.com)... 54.231.241.142\n",
      "Connecting to s3-ap-southeast-1.amazonaws.com (s3-ap-southeast-1.amazonaws.com)|54.231.241.142|:443... connected.\n",
      "HTTP request sent, awaiting response... 200 OK\n",
      "Length: 1152667137 (1.1G) [application/octet-stream]\n",
      "Saving to: 'netuser_im_step2_01_07.dat'\n",
      "\n",
      "netuser_im_step2_01 100%[=====================>]   1.07G  74.6MB/s   in 15s    \n",
      "\n",
      "2015-11-16 04:10:08 (71.0 MB/s) - 'netuser_im_step2_01_07.dat' saved [1152667137/1152667137]\n",
      "\n",
      "converted 'https://s3-ap-southeast-1.amazonaws.com/shiyanbigdata/netuser_im_step2_08_14.dat' (ANSI_X3.4-1968) -> 'https://s3-ap-southeast-1.amazonaws.com/shiyanbigdata/netuser_im_step2_08_14.dat' (UTF-8)\n",
      "--2015-11-16 04:10:08--  https://s3-ap-southeast-1.amazonaws.com/shiyanbigdata/netuser_im_step2_08_14.dat\n",
      "Resolving s3-ap-southeast-1.amazonaws.com (s3-ap-southeast-1.amazonaws.com)... 54.231.241.130\n",
      "Connecting to s3-ap-southeast-1.amazonaws.com (s3-ap-southeast-1.amazonaws.com)|54.231.241.130|:443... connected.\n",
      "HTTP request sent, awaiting response... 200 OK\n",
      "Length: 1201199472 (1.1G) [application/octet-stream]\n",
      "Saving to: 'netuser_im_step2_08_14.dat'\n",
      "\n",
      "netuser_im_step2_08 100%[=====================>]   1.12G  78.6MB/s   in 16s    \n",
      "\n",
      "2015-11-16 04:10:24 (71.8 MB/s) - 'netuser_im_step2_08_14.dat' saved [1201199472/1201199472]\n",
      "\n"
     ]
    }
   ],
   "source": [
    "#\n",
    "#\n",
    "#Download netuser data from S3 url\n",
    "!wget https://s3-ap-southeast-1.amazonaws.com/shiyanbigdata/netuser_im_step2_01_07.dat\n",
    "!wget https://s3-ap-southeast-1.amazonaws.com/shiyanbigdata/netuser_im_step2_08_14.dat"
   ]
  },
  {
   "cell_type": "code",
   "execution_count": 4,
   "metadata": {
    "collapsed": false
   },
   "outputs": [
    {
     "name": "stdout",
     "output_type": "stream",
     "text": [
      "converted 'https://s3-ap-southeast-1.amazonaws.com/shiyanbigdata/netuser_im_step2_15_21.dat' (ANSI_X3.4-1968) -> 'https://s3-ap-southeast-1.amazonaws.com/shiyanbigdata/netuser_im_step2_15_21.dat' (UTF-8)\n",
      "--2015-11-16 04:11:29--  https://s3-ap-southeast-1.amazonaws.com/shiyanbigdata/netuser_im_step2_15_21.dat\n",
      "Resolving s3-ap-southeast-1.amazonaws.com (s3-ap-southeast-1.amazonaws.com)... 54.231.242.138\n",
      "Connecting to s3-ap-southeast-1.amazonaws.com (s3-ap-southeast-1.amazonaws.com)|54.231.242.138|:443... connected.\n",
      "HTTP request sent, awaiting response... 200 OK\n",
      "Length: 1226407241 (1.1G) [application/octet-stream]\n",
      "Saving to: 'netuser_im_step2_15_21.dat'\n",
      "\n",
      "netuser_im_step2_15 100%[=====================>]   1.14G  76.8MB/s   in 15s    \n",
      "\n",
      "2015-11-16 04:11:44 (76.4 MB/s) - 'netuser_im_step2_15_21.dat' saved [1226407241/1226407241]\n",
      "\n",
      "converted 'https://s3-ap-southeast-1.amazonaws.com/shiyanbigdata/netuser_im_step2_22_28.dat' (ANSI_X3.4-1968) -> 'https://s3-ap-southeast-1.amazonaws.com/shiyanbigdata/netuser_im_step2_22_28.dat' (UTF-8)\n",
      "--2015-11-16 04:11:44--  https://s3-ap-southeast-1.amazonaws.com/shiyanbigdata/netuser_im_step2_22_28.dat\n",
      "Resolving s3-ap-southeast-1.amazonaws.com (s3-ap-southeast-1.amazonaws.com)... 54.231.241.142\n",
      "Connecting to s3-ap-southeast-1.amazonaws.com (s3-ap-southeast-1.amazonaws.com)|54.231.241.142|:443... connected.\n",
      "HTTP request sent, awaiting response... 200 OK\n",
      "Length: 1186893360 (1.1G) [application/octet-stream]\n",
      "Saving to: 'netuser_im_step2_22_28.dat'\n",
      "\n",
      "netuser_im_step2_22 100%[=====================>]   1.10G  70.9MB/s   in 16s    \n",
      "\n",
      "2015-11-16 04:12:00 (72.7 MB/s) - 'netuser_im_step2_22_28.dat' saved [1186893360/1186893360]\n",
      "\n"
     ]
    }
   ],
   "source": [
    "!wget https://s3-ap-southeast-1.amazonaws.com/shiyanbigdata/netuser_im_step2_15_21.dat  \n",
    "!wget https://s3-ap-southeast-1.amazonaws.com/shiyanbigdata/netuser_im_step2_22_28.dat"
   ]
  },
  {
   "cell_type": "code",
   "execution_count": 6,
   "metadata": {
    "collapsed": false
   },
   "outputs": [
    {
     "name": "stdout",
     "output_type": "stream",
     "text": [
      "converted 'https://s3-ap-southeast-1.amazonaws.com/shiyanbigdata/netuser_im_step1_01_28.dat' (ANSI_X3.4-1968) -> 'https://s3-ap-southeast-1.amazonaws.com/shiyanbigdata/netuser_im_step1_01_28.dat' (UTF-8)\n",
      "--2015-11-16 04:14:09--  https://s3-ap-southeast-1.amazonaws.com/shiyanbigdata/netuser_im_step1_01_28.dat\n",
      "Resolving s3-ap-southeast-1.amazonaws.com (s3-ap-southeast-1.amazonaws.com)... 54.231.243.138\n",
      "Connecting to s3-ap-southeast-1.amazonaws.com (s3-ap-southeast-1.amazonaws.com)|54.231.243.138|:443... connected.\n",
      "HTTP request sent, awaiting response... 200 OK\n",
      "Length: 1092130689 (1.0G) [application/octet-stream]\n",
      "Saving to: 'netuser_im_step1_01_28.dat'\n",
      "\n",
      "netuser_im_step1_01 100%[=====================>]   1.02G  86.1MB/s   in 13s    \n",
      "\n",
      "2015-11-16 04:14:22 (81.4 MB/s) - 'netuser_im_step1_01_28.dat' saved [1092130689/1092130689]\n",
      "\n"
     ]
    }
   ],
   "source": [
    "!wget https://s3-ap-southeast-1.amazonaws.com/shiyanbigdata/netuser_im_step1_01_28.dat"
   ]
  },
  {
   "cell_type": "code",
   "execution_count": 3,
   "metadata": {
    "collapsed": true
   },
   "outputs": [],
   "source": [
    "#read in all datasets from local drive\n",
    "table1 = pd.read_table(\"netuser_im_step2_01_07.dat\", sep =\"\\t\", header = None)\n",
    "table2 = pd.read_table(\"netuser_im_step2_08_14.dat\", sep =\"\\t\", header = None)"
   ]
  },
  {
   "cell_type": "code",
   "execution_count": 5,
   "metadata": {
    "collapsed": true
   },
   "outputs": [],
   "source": [
    "table3 = pd.read_table(\"netuser_im_step2_15_21.dat\", sep =\"\\t\", header = None)\n",
    "table4 = pd.read_table(\"netuser_im_step2_22_28.dat\", sep =\"\\t\", header = None)"
   ]
  },
  {
   "cell_type": "code",
   "execution_count": 8,
   "metadata": {
    "collapsed": false
   },
   "outputs": [],
   "source": [
    "table0 = pd.read_table(\"netuser_im_step1_01_28.dat\", sep =\"\\t\", header = None)"
   ]
  },
  {
   "cell_type": "code",
   "execution_count": 15,
   "metadata": {
    "collapsed": false
   },
   "outputs": [
    {
     "data": {
      "text/plain": [
       "290819516"
      ]
     },
     "execution_count": 15,
     "metadata": {},
     "output_type": "execute_result"
    }
   ],
   "source": [
    "#check length of combined dataset\n",
    "len(table0) + len(table1) + len(table1) + len(table2) + len(table3) + len(table4)"
   ]
  },
  {
   "cell_type": "code",
   "execution_count": 9,
   "metadata": {
    "collapsed": false
   },
   "outputs": [],
   "source": [
    "#stack the netuser tables\n",
    "stacked_netuser = pd.concat([table0, table1, table2, table3, table4])\n",
    "IM_table = stacked_netuser"
   ]
  },
  {
   "cell_type": "code",
   "execution_count": 13,
   "metadata": {
    "collapsed": true
   },
   "outputs": [],
   "source": [
    "IM_table.columns=['DATE','EGOID','ALTERID','ACTIVITY_CODE','COUNT']"
   ]
  },
  {
   "cell_type": "code",
   "execution_count": 11,
   "metadata": {
    "collapsed": false
   },
   "outputs": [
    {
     "data": {
      "text/plain": [
       "(241740142, 5)"
      ]
     },
     "execution_count": 11,
     "metadata": {},
     "output_type": "execute_result"
    }
   ],
   "source": [
    "IM_table.shape"
   ]
  },
  {
   "cell_type": "code",
   "execution_count": 14,
   "metadata": {
    "collapsed": false
   },
   "outputs": [
    {
     "data": {
      "text/html": [
       "<div>\n",
       "<table border=\"1\" class=\"dataframe\">\n",
       "  <thead>\n",
       "    <tr style=\"text-align: right;\">\n",
       "      <th></th>\n",
       "      <th>DATE</th>\n",
       "      <th>EGOID</th>\n",
       "      <th>ALTERID</th>\n",
       "      <th>ACTIVITY_CODE</th>\n",
       "      <th>COUNT</th>\n",
       "    </tr>\n",
       "  </thead>\n",
       "  <tbody>\n",
       "    <tr>\n",
       "      <th>0</th>\n",
       "      <td>6</td>\n",
       "      <td>40</td>\n",
       "      <td>4708423</td>\n",
       "      <td>S</td>\n",
       "      <td>1</td>\n",
       "    </tr>\n",
       "    <tr>\n",
       "      <th>1</th>\n",
       "      <td>18</td>\n",
       "      <td>40</td>\n",
       "      <td>9090085</td>\n",
       "      <td>R</td>\n",
       "      <td>6</td>\n",
       "    </tr>\n",
       "    <tr>\n",
       "      <th>2</th>\n",
       "      <td>18</td>\n",
       "      <td>40</td>\n",
       "      <td>9090085</td>\n",
       "      <td>S</td>\n",
       "      <td>11</td>\n",
       "    </tr>\n",
       "    <tr>\n",
       "      <th>3</th>\n",
       "      <td>19</td>\n",
       "      <td>40</td>\n",
       "      <td>9090085</td>\n",
       "      <td>S</td>\n",
       "      <td>3</td>\n",
       "    </tr>\n",
       "    <tr>\n",
       "      <th>4</th>\n",
       "      <td>19</td>\n",
       "      <td>40</td>\n",
       "      <td>9090085</td>\n",
       "      <td>R</td>\n",
       "      <td>4</td>\n",
       "    </tr>\n",
       "  </tbody>\n",
       "</table>\n",
       "</div>"
      ],
      "text/plain": [
       "   DATE  EGOID  ALTERID ACTIVITY_CODE  COUNT\n",
       "0     6     40  4708423             S      1\n",
       "1    18     40  9090085             R      6\n",
       "2    18     40  9090085             S     11\n",
       "3    19     40  9090085             S      3\n",
       "4    19     40  9090085             R      4"
      ]
     },
     "execution_count": 14,
     "metadata": {},
     "output_type": "execute_result"
    }
   ],
   "source": [
    "#view first 5 rows of dataset\n",
    "IM_table.head()"
   ]
  },
  {
   "cell_type": "code",
   "execution_count": 13,
   "metadata": {
    "collapsed": false
   },
   "outputs": [
    {
     "data": {
      "text/html": [
       "<div>\n",
       "<table border=\"1\" class=\"dataframe\">\n",
       "  <thead>\n",
       "    <tr style=\"text-align: right;\">\n",
       "      <th></th>\n",
       "      <th>DATE</th>\n",
       "      <th>EGOID</th>\n",
       "      <th>ALTERID</th>\n",
       "      <th>COUNT</th>\n",
       "    </tr>\n",
       "  </thead>\n",
       "  <tbody>\n",
       "    <tr>\n",
       "      <th>count</th>\n",
       "      <td>2.417401e+08</td>\n",
       "      <td>2.417401e+08</td>\n",
       "      <td>2.417401e+08</td>\n",
       "      <td>2.417401e+08</td>\n",
       "    </tr>\n",
       "    <tr>\n",
       "      <th>mean</th>\n",
       "      <td>1.692004e+01</td>\n",
       "      <td>1.374919e+07</td>\n",
       "      <td>1.374778e+07</td>\n",
       "      <td>1.626190e+01</td>\n",
       "    </tr>\n",
       "    <tr>\n",
       "      <th>std</th>\n",
       "      <td>7.942826e+00</td>\n",
       "      <td>7.942343e+06</td>\n",
       "      <td>7.938504e+06</td>\n",
       "      <td>5.509436e+01</td>\n",
       "    </tr>\n",
       "    <tr>\n",
       "      <th>min</th>\n",
       "      <td>1.000000e+00</td>\n",
       "      <td>3.000000e+00</td>\n",
       "      <td>0.000000e+00</td>\n",
       "      <td>1.000000e+00</td>\n",
       "    </tr>\n",
       "    <tr>\n",
       "      <th>25%</th>\n",
       "      <td>8.000000e+00</td>\n",
       "      <td>6.869506e+06</td>\n",
       "      <td>6.875854e+06</td>\n",
       "      <td>1.000000e+00</td>\n",
       "    </tr>\n",
       "    <tr>\n",
       "      <th>50%</th>\n",
       "      <td>1.500000e+01</td>\n",
       "      <td>1.375243e+07</td>\n",
       "      <td>1.374811e+07</td>\n",
       "      <td>3.000000e+00</td>\n",
       "    </tr>\n",
       "    <tr>\n",
       "      <th>75%</th>\n",
       "      <td>2.100000e+01</td>\n",
       "      <td>2.063140e+07</td>\n",
       "      <td>2.061675e+07</td>\n",
       "      <td>1.100000e+01</td>\n",
       "    </tr>\n",
       "    <tr>\n",
       "      <th>max</th>\n",
       "      <td>2.800000e+01</td>\n",
       "      <td>2.750000e+07</td>\n",
       "      <td>2.750000e+07</td>\n",
       "      <td>8.078100e+04</td>\n",
       "    </tr>\n",
       "  </tbody>\n",
       "</table>\n",
       "</div>"
      ],
      "text/plain": [
       "               DATE         EGOID       ALTERID         COUNT\n",
       "count  2.417401e+08  2.417401e+08  2.417401e+08  2.417401e+08\n",
       "mean   1.692004e+01  1.374919e+07  1.374778e+07  1.626190e+01\n",
       "std    7.942826e+00  7.942343e+06  7.938504e+06  5.509436e+01\n",
       "min    1.000000e+00  3.000000e+00  0.000000e+00  1.000000e+00\n",
       "25%    8.000000e+00  6.869506e+06  6.875854e+06  1.000000e+00\n",
       "50%    1.500000e+01  1.375243e+07  1.374811e+07  3.000000e+00\n",
       "75%    2.100000e+01  2.063140e+07  2.061675e+07  1.100000e+01\n",
       "max    2.800000e+01  2.750000e+07  2.750000e+07  8.078100e+04"
      ]
     },
     "execution_count": 13,
     "metadata": {},
     "output_type": "execute_result"
    }
   ],
   "source": [
    "#look at the descriptive characterisitcs of continuous var\n",
    "IM_table.describe()"
   ]
  },
  {
   "cell_type": "code",
   "execution_count": 14,
   "metadata": {
    "collapsed": false
   },
   "outputs": [
    {
     "data": {
      "text/plain": [
       "ACTIVITY_CODE\n",
       "A     16101861\n",
       "R    113565111\n",
       "S    112073170\n",
       "Name: ACTIVITY_CODE, dtype: int64"
      ]
     },
     "execution_count": 14,
     "metadata": {},
     "output_type": "execute_result"
    }
   ],
   "source": [
    "#look at descriptive characteristics fo categorical var\n",
    "IM_table.groupby('ACTIVITY_CODE').ACTIVITY_CODE.count()"
   ]
  },
  {
   "cell_type": "code",
   "execution_count": 16,
   "metadata": {
    "collapsed": false
   },
   "outputs": [
    {
     "data": {
      "text/plain": [
       "ACTIVITY_CODE\n",
       "R    113565111\n",
       "S    112073170\n",
       "Name: ACTIVITY_CODE, dtype: int64"
      ]
     },
     "execution_count": 16,
     "metadata": {},
     "output_type": "execute_result"
    }
   ],
   "source": [
    "#remove those rows with activity_code = 'A'. \n",
    "#'R'is received, 'S' is sent\n",
    "IM_table = IM_table[IM_table.ACTIVITY_CODE!='A']\n",
    "IM_table.groupby('ACTIVITY_CODE').ACTIVITY_CODE.count()"
   ]
  },
  {
   "cell_type": "code",
   "execution_count": 17,
   "metadata": {
    "collapsed": false
   },
   "outputs": [
    {
     "data": {
      "text/plain": [
       "(225638281, 5)"
      ]
     },
     "execution_count": 17,
     "metadata": {},
     "output_type": "execute_result"
    }
   ],
   "source": [
    "IM_table.shape"
   ]
  },
  {
   "cell_type": "code",
   "execution_count": 17,
   "metadata": {
    "collapsed": false
   },
   "outputs": [
    {
     "data": {
      "text/plain": [
       "DATE\n",
       "1      1555951\n",
       "2      1536208\n",
       "3      1522005\n",
       "4      1630191\n",
       "5      1499505\n",
       "6      1282973\n",
       "7     47254425\n",
       "8      1574698\n",
       "9      1607364\n",
       "10     1588085\n",
       "11     1528621\n",
       "12     1436118\n",
       "13     1258064\n",
       "14    47179601\n",
       "15     1516737\n",
       "16     1546808\n",
       "17     1541118\n",
       "18     1558809\n",
       "19     1531673\n",
       "20     1286969\n",
       "21    48169139\n",
       "22     1640745\n",
       "23     1600049\n",
       "24     1620811\n",
       "25     1590710\n",
       "26     1531213\n",
       "27     1298037\n",
       "28    46751654\n",
       "Name: DATE, dtype: int64"
      ]
     },
     "execution_count": 17,
     "metadata": {},
     "output_type": "execute_result"
    }
   ],
   "source": [
    "#look at how many unique dates and their count are in the dataset\n",
    "IM_table.groupby('DATE').DATE.count()"
   ]
  },
  {
   "cell_type": "code",
   "execution_count": 18,
   "metadata": {
    "collapsed": false
   },
   "outputs": [],
   "source": [
    "#We are not doing longitudinal analysis, so we will drop the date variable\n",
    "IM_table = IM_table.drop('DATE',1)"
   ]
  },
  {
   "cell_type": "code",
   "execution_count": 19,
   "metadata": {
    "collapsed": false
   },
   "outputs": [],
   "source": [
    "#Combine rows which have the same pairs of ids and same activity codes. Add up their count.\n",
    "IM_grouped = IM_table.groupby(['EGOID','ALTERID','ACTIVITY_CODE']).sum()\n",
    "#put back the column names\n",
    "IM_grouped = IM_grouped.reset_index()"
   ]
  },
  {
   "cell_type": "code",
   "execution_count": 20,
   "metadata": {
    "collapsed": false
   },
   "outputs": [],
   "source": [
    "IM_table = IM_grouped"
   ]
  },
  {
   "cell_type": "code",
   "execution_count": 21,
   "metadata": {
    "collapsed": false
   },
   "outputs": [
    {
     "data": {
      "text/html": [
       "<div>\n",
       "<table border=\"1\" class=\"dataframe\">\n",
       "  <thead>\n",
       "    <tr style=\"text-align: right;\">\n",
       "      <th></th>\n",
       "      <th>EGOID</th>\n",
       "      <th>ALTERID</th>\n",
       "      <th>ACTIVITY_CODE</th>\n",
       "      <th>COUNT</th>\n",
       "    </tr>\n",
       "  </thead>\n",
       "  <tbody>\n",
       "    <tr>\n",
       "      <th>0</th>\n",
       "      <td>3</td>\n",
       "      <td>674190</td>\n",
       "      <td>R</td>\n",
       "      <td>1</td>\n",
       "    </tr>\n",
       "    <tr>\n",
       "      <th>1</th>\n",
       "      <td>3</td>\n",
       "      <td>1207040</td>\n",
       "      <td>R</td>\n",
       "      <td>98</td>\n",
       "    </tr>\n",
       "    <tr>\n",
       "      <th>2</th>\n",
       "      <td>3</td>\n",
       "      <td>1207040</td>\n",
       "      <td>S</td>\n",
       "      <td>80</td>\n",
       "    </tr>\n",
       "    <tr>\n",
       "      <th>3</th>\n",
       "      <td>3</td>\n",
       "      <td>1247524</td>\n",
       "      <td>R</td>\n",
       "      <td>1</td>\n",
       "    </tr>\n",
       "    <tr>\n",
       "      <th>4</th>\n",
       "      <td>3</td>\n",
       "      <td>2833540</td>\n",
       "      <td>S</td>\n",
       "      <td>1</td>\n",
       "    </tr>\n",
       "  </tbody>\n",
       "</table>\n",
       "</div>"
      ],
      "text/plain": [
       "   EGOID  ALTERID ACTIVITY_CODE  COUNT\n",
       "0      3   674190             R      1\n",
       "1      3  1207040             R     98\n",
       "2      3  1207040             S     80\n",
       "3      3  1247524             R      1\n",
       "4      3  2833540             S      1"
      ]
     },
     "execution_count": 21,
     "metadata": {},
     "output_type": "execute_result"
    }
   ],
   "source": [
    "IM_table.head()"
   ]
  },
  {
   "cell_type": "code",
   "execution_count": null,
   "metadata": {
    "collapsed": true
   },
   "outputs": [],
   "source": [
    "#Code to check if there is overlap between pairs of users\n",
    "#Direction of IM exchange is already indicated using activity code. \n",
    "#e.g. of overlap: \n",
    "# egoid: 1, alterid = 3, activity code = r\n",
    "# egoid: 3, alterid = 1, activity code = s\n",
    "# this step is VERY processing intensive... \n",
    "NN = table1.ix[:,[1,2]]\n",
    "tuplesNN = [tuple(x) for x in NN.values]\n",
    "MM = [(x,y) for x, y in tuplesNN if (y,x) in tuplesNN]"
   ]
  },
  {
   "cell_type": "code",
   "execution_count": 20,
   "metadata": {
    "collapsed": false
   },
   "outputs": [
    {
     "name": "stdout",
     "output_type": "stream",
     "text": [
      "converted 'https://s3-ap-southeast-1.amazonaws.com/shiyanbigdata/netuser_userdata.dat' (ANSI_X3.4-1968) -> 'https://s3-ap-southeast-1.amazonaws.com/shiyanbigdata/netuser_userdata.dat' (UTF-8)\n",
      "--2015-11-16 04:27:38--  https://s3-ap-southeast-1.amazonaws.com/shiyanbigdata/netuser_userdata.dat\n",
      "Resolving s3-ap-southeast-1.amazonaws.com (s3-ap-southeast-1.amazonaws.com)... 54.231.242.150\n",
      "Connecting to s3-ap-southeast-1.amazonaws.com (s3-ap-southeast-1.amazonaws.com)|54.231.242.150|:443... connected.\n",
      "HTTP request sent, awaiting response... 200 OK\n",
      "Length: 702784479 (670M) [application/octet-stream]\n",
      "Saving to: 'netuser_userdata.dat'\n",
      "\n",
      "netuser_userdata.da 100%[=====================>] 670.23M  88.8MB/s   in 7.6s   \n",
      "\n",
      "2015-11-16 04:27:46 (87.9 MB/s) - 'netuser_userdata.dat' saved [702784479/702784479]\n",
      "\n"
     ]
    }
   ],
   "source": [
    "#\n",
    "#\n",
    "#Download netuser gdata from S3 url\n",
    "!wget https://s3-ap-southeast-1.amazonaws.com/shiyanbigdata/netuser_userdata.dat"
   ]
  },
  {
   "cell_type": "code",
   "execution_count": 21,
   "metadata": {
    "collapsed": true
   },
   "outputs": [],
   "source": [
    "#Read in netuser data from local drive\n",
    "netuser_table = pd.read_table(\"netuser_userdata.dat\", sep =\"\\t\", header = None)"
   ]
  },
  {
   "cell_type": "code",
   "execution_count": 22,
   "metadata": {
    "collapsed": false
   },
   "outputs": [],
   "source": [
    "#Assign column names\n",
    "netuser_table.columns=['USERID', 'SYSID','LISTID','PRIORGO','HASREG','GENDER','AGEYR','COUNTRY']\n",
    "#Drop columns that will not be used\n",
    "netuser_table = netuser_table.ix[:,['USERID','GENDER','AGEYR','COUNTRY']]"
   ]
  },
  {
   "cell_type": "code",
   "execution_count": 23,
   "metadata": {
    "collapsed": false
   },
   "outputs": [
    {
     "data": {
      "text/plain": [
       "(27479537, 4)"
      ]
     },
     "execution_count": 23,
     "metadata": {},
     "output_type": "execute_result"
    }
   ],
   "source": [
    "netuser_table.shape"
   ]
  },
  {
   "cell_type": "code",
   "execution_count": 26,
   "metadata": {
    "collapsed": false
   },
   "outputs": [
    {
     "data": {
      "text/html": [
       "<div>\n",
       "<table border=\"1\" class=\"dataframe\">\n",
       "  <thead>\n",
       "    <tr style=\"text-align: right;\">\n",
       "      <th></th>\n",
       "      <th>USERID</th>\n",
       "      <th>GENDER</th>\n",
       "      <th>AGEYR</th>\n",
       "      <th>COUNTRY</th>\n",
       "    </tr>\n",
       "  </thead>\n",
       "  <tbody>\n",
       "    <tr>\n",
       "      <th>0</th>\n",
       "      <td>0</td>\n",
       "      <td>1</td>\n",
       "      <td>27</td>\n",
       "      <td>238</td>\n",
       "    </tr>\n",
       "    <tr>\n",
       "      <th>1</th>\n",
       "      <td>1</td>\n",
       "      <td>1</td>\n",
       "      <td>21</td>\n",
       "      <td>238</td>\n",
       "    </tr>\n",
       "    <tr>\n",
       "      <th>2</th>\n",
       "      <td>2</td>\n",
       "      <td>-1</td>\n",
       "      <td>-1</td>\n",
       "      <td>-1</td>\n",
       "    </tr>\n",
       "    <tr>\n",
       "      <th>3</th>\n",
       "      <td>3</td>\n",
       "      <td>1</td>\n",
       "      <td>39</td>\n",
       "      <td>238</td>\n",
       "    </tr>\n",
       "    <tr>\n",
       "      <th>4</th>\n",
       "      <td>4</td>\n",
       "      <td>1</td>\n",
       "      <td>29</td>\n",
       "      <td>63</td>\n",
       "    </tr>\n",
       "  </tbody>\n",
       "</table>\n",
       "</div>"
      ],
      "text/plain": [
       "   USERID  GENDER  AGEYR  COUNTRY\n",
       "0       0       1     27      238\n",
       "1       1       1     21      238\n",
       "2       2      -1     -1       -1\n",
       "3       3       1     39      238\n",
       "4       4       1     29       63"
      ]
     },
     "execution_count": 26,
     "metadata": {},
     "output_type": "execute_result"
    }
   ],
   "source": [
    "netuser_table.head()"
   ]
  },
  {
   "cell_type": "code",
   "execution_count": 24,
   "metadata": {
    "collapsed": false
   },
   "outputs": [
    {
     "name": "stdout",
     "output_type": "stream",
     "text": [
      "converted 'https://s3-ap-southeast-1.amazonaws.com/shiyanbigdata/netuser_ygo_01_07.dat' (ANSI_X3.4-1968) -> 'https://s3-ap-southeast-1.amazonaws.com/shiyanbigdata/netuser_ygo_01_07.dat' (UTF-8)\n",
      "--2015-11-16 04:28:36--  https://s3-ap-southeast-1.amazonaws.com/shiyanbigdata/netuser_ygo_01_07.dat\n",
      "Resolving s3-ap-southeast-1.amazonaws.com (s3-ap-southeast-1.amazonaws.com)... 54.231.243.138\n",
      "Connecting to s3-ap-southeast-1.amazonaws.com (s3-ap-southeast-1.amazonaws.com)|54.231.243.138|:443... connected.\n",
      "HTTP request sent, awaiting response... 200 OK\n",
      "Length: 18306291 (17M) [application/octet-stream]\n",
      "Saving to: 'netuser_ygo_01_07.dat'\n",
      "\n",
      "netuser_ygo_01_07.d 100%[=====================>]  17.46M  75.5MB/s   in 0.2s   \n",
      "\n",
      "2015-11-16 04:28:36 (75.5 MB/s) - 'netuser_ygo_01_07.dat' saved [18306291/18306291]\n",
      "\n",
      "converted 'https://s3-ap-southeast-1.amazonaws.com/shiyanbigdata/netuser_ygo_08_14.dat' (ANSI_X3.4-1968) -> 'https://s3-ap-southeast-1.amazonaws.com/shiyanbigdata/netuser_ygo_08_14.dat' (UTF-8)\n",
      "--2015-11-16 04:28:37--  https://s3-ap-southeast-1.amazonaws.com/shiyanbigdata/netuser_ygo_08_14.dat\n",
      "Resolving s3-ap-southeast-1.amazonaws.com (s3-ap-southeast-1.amazonaws.com)... 54.231.243.138\n",
      "Connecting to s3-ap-southeast-1.amazonaws.com (s3-ap-southeast-1.amazonaws.com)|54.231.243.138|:443... connected.\n",
      "HTTP request sent, awaiting response... 200 OK\n",
      "Length: 19065875 (18M) [application/octet-stream]\n",
      "Saving to: 'netuser_ygo_08_14.dat'\n",
      "\n",
      "netuser_ygo_08_14.d 100%[=====================>]  18.18M  71.4MB/s   in 0.3s   \n",
      "\n",
      "2015-11-16 04:28:38 (71.4 MB/s) - 'netuser_ygo_08_14.dat' saved [19065875/19065875]\n",
      "\n"
     ]
    }
   ],
   "source": [
    "#\n",
    "#\n",
    "#Download netuser ygodata from S3 url\n",
    "!wget https://s3-ap-southeast-1.amazonaws.com/shiyanbigdata/netuser_ygo_01_07.dat\n",
    "!wget https://s3-ap-southeast-1.amazonaws.com/shiyanbigdata/netuser_ygo_08_14.dat"
   ]
  },
  {
   "cell_type": "code",
   "execution_count": 25,
   "metadata": {
    "collapsed": false
   },
   "outputs": [
    {
     "name": "stdout",
     "output_type": "stream",
     "text": [
      "converted 'https://s3-ap-southeast-1.amazonaws.com/shiyanbigdata/netuser_ygo_15_21.dat' (ANSI_X3.4-1968) -> 'https://s3-ap-southeast-1.amazonaws.com/shiyanbigdata/netuser_ygo_15_21.dat' (UTF-8)\n",
      "--2015-11-16 04:28:56--  https://s3-ap-southeast-1.amazonaws.com/shiyanbigdata/netuser_ygo_15_21.dat\n",
      "Resolving s3-ap-southeast-1.amazonaws.com (s3-ap-southeast-1.amazonaws.com)... 54.231.243.138\n",
      "Connecting to s3-ap-southeast-1.amazonaws.com (s3-ap-southeast-1.amazonaws.com)|54.231.243.138|:443... connected.\n",
      "HTTP request sent, awaiting response... 200 OK\n",
      "Length: 19937314 (19M) [application/octet-stream]\n",
      "Saving to: 'netuser_ygo_15_21.dat'\n",
      "\n",
      "netuser_ygo_15_21.d 100%[=====================>]  19.01M  67.9MB/s   in 0.3s   \n",
      "\n",
      "2015-11-16 04:28:56 (67.9 MB/s) - 'netuser_ygo_15_21.dat' saved [19937314/19937314]\n",
      "\n",
      "converted 'https://s3-ap-southeast-1.amazonaws.com/shiyanbigdata/netuser_ygo_22_28.dat' (ANSI_X3.4-1968) -> 'https://s3-ap-southeast-1.amazonaws.com/shiyanbigdata/netuser_ygo_22_28.dat' (UTF-8)\n",
      "--2015-11-16 04:28:57--  https://s3-ap-southeast-1.amazonaws.com/shiyanbigdata/netuser_ygo_22_28.dat\n",
      "Resolving s3-ap-southeast-1.amazonaws.com (s3-ap-southeast-1.amazonaws.com)... 54.231.243.138\n",
      "Connecting to s3-ap-southeast-1.amazonaws.com (s3-ap-southeast-1.amazonaws.com)|54.231.243.138|:443... connected.\n",
      "HTTP request sent, awaiting response... 200 OK\n",
      "Length: 21819014 (21M) [application/octet-stream]\n",
      "Saving to: 'netuser_ygo_22_28.dat'\n",
      "\n",
      "netuser_ygo_22_28.d 100%[=====================>]  20.81M  47.4MB/s   in 0.4s   \n",
      "\n",
      "2015-11-16 04:28:57 (47.4 MB/s) - 'netuser_ygo_22_28.dat' saved [21819014/21819014]\n",
      "\n"
     ]
    }
   ],
   "source": [
    "!wget https://s3-ap-southeast-1.amazonaws.com/shiyanbigdata/netuser_ygo_15_21.dat  \n",
    "!wget https://s3-ap-southeast-1.amazonaws.com/shiyanbigdata/netuser_ygo_22_28.dat"
   ]
  },
  {
   "cell_type": "code",
   "execution_count": 26,
   "metadata": {
    "collapsed": true
   },
   "outputs": [],
   "source": [
    "#Read in ygo data from local drive\n",
    "ygo_table1 = pd.read_table(\"netuser_ygo_01_07.dat\", sep =\"\\t\", header = None)\n",
    "ygo_table2 = pd.read_table(\"netuser_ygo_08_14.dat\", sep =\"\\t\", header = None)\n",
    "ygo_table3 = pd.read_table(\"netuser_ygo_15_21.dat\", sep =\"\\t\", header = None)\n",
    "ygo_table4 = pd.read_table(\"netuser_ygo_22_28.dat\", sep =\"\\t\", header = None)"
   ]
  },
  {
   "cell_type": "code",
   "execution_count": 27,
   "metadata": {
    "collapsed": true
   },
   "outputs": [],
   "source": [
    "#Stack the ygo tables\n",
    "ygo_table = pd.concat([ygo_table1, ygo_table2, ygo_table3, ygo_table4])"
   ]
  },
  {
   "cell_type": "code",
   "execution_count": 28,
   "metadata": {
    "collapsed": true
   },
   "outputs": [],
   "source": [
    "ygo_table.columns=['DATE','USERID','FIRSTGO','DEVID','PCTPV','GOPV','FPPV','MAILPV','SRCHPV','WTHRPV','NEWSPV','FINPV','SPORTSPV','FLICKRPV']"
   ]
  },
  {
   "cell_type": "code",
   "execution_count": 29,
   "metadata": {
    "collapsed": false
   },
   "outputs": [],
   "source": [
    "#Remove columns that will not be used, and remove duplicates for USERIDs, taking on True FIRSTGO flag if present\n",
    "ygo_table = ygo_table.ix[:,['USERID','FIRSTGO']].groupby('USERID').max()\n",
    "ygo_table = ygo_table.reset_index()"
   ]
  },
  {
   "cell_type": "code",
   "execution_count": 30,
   "metadata": {
    "collapsed": false
   },
   "outputs": [
    {
     "data": {
      "text/html": [
       "<div>\n",
       "<table border=\"1\" class=\"dataframe\">\n",
       "  <thead>\n",
       "    <tr style=\"text-align: right;\">\n",
       "      <th></th>\n",
       "      <th>USERID</th>\n",
       "      <th>FIRSTGO</th>\n",
       "    </tr>\n",
       "  </thead>\n",
       "  <tbody>\n",
       "    <tr>\n",
       "      <th>0</th>\n",
       "      <td>40</td>\n",
       "      <td>1</td>\n",
       "    </tr>\n",
       "    <tr>\n",
       "      <th>1</th>\n",
       "      <td>108</td>\n",
       "      <td>1</td>\n",
       "    </tr>\n",
       "    <tr>\n",
       "      <th>2</th>\n",
       "      <td>121</td>\n",
       "      <td>1</td>\n",
       "    </tr>\n",
       "    <tr>\n",
       "      <th>3</th>\n",
       "      <td>130</td>\n",
       "      <td>1</td>\n",
       "    </tr>\n",
       "    <tr>\n",
       "      <th>4</th>\n",
       "      <td>386</td>\n",
       "      <td>1</td>\n",
       "    </tr>\n",
       "  </tbody>\n",
       "</table>\n",
       "</div>"
      ],
      "text/plain": [
       "   USERID  FIRSTGO\n",
       "0      40        1\n",
       "1     108        1\n",
       "2     121        1\n",
       "3     130        1\n",
       "4     386        1"
      ]
     },
     "execution_count": 30,
     "metadata": {},
     "output_type": "execute_result"
    }
   ],
   "source": [
    "ygo_table.head()"
   ]
  },
  {
   "cell_type": "code",
   "execution_count": 31,
   "metadata": {
    "collapsed": false
   },
   "outputs": [
    {
     "data": {
      "text/plain": [
       "(384467, 2)"
      ]
     },
     "execution_count": 31,
     "metadata": {},
     "output_type": "execute_result"
    }
   ],
   "source": [
    "ygo_table.shape"
   ]
  },
  {
   "cell_type": "code",
   "execution_count": 32,
   "metadata": {
    "collapsed": true
   },
   "outputs": [],
   "source": [
    "#Merge the netuser and ygo tables\n",
    "merged_user = pd.merge(netuser_table, ygo_table, how = 'outer')"
   ]
  },
  {
   "cell_type": "code",
   "execution_count": 33,
   "metadata": {
    "collapsed": true
   },
   "outputs": [
    {
     "data": {
      "text/html": [
       "<div>\n",
       "<table border=\"1\" class=\"dataframe\">\n",
       "  <thead>\n",
       "    <tr style=\"text-align: right;\">\n",
       "      <th></th>\n",
       "      <th>USERID</th>\n",
       "      <th>GENDER</th>\n",
       "      <th>AGEYR</th>\n",
       "      <th>COUNTRY</th>\n",
       "      <th>FIRSTGO</th>\n",
       "    </tr>\n",
       "  </thead>\n",
       "  <tbody>\n",
       "    <tr>\n",
       "      <th>0</th>\n",
       "      <td>0</td>\n",
       "      <td>1</td>\n",
       "      <td>27</td>\n",
       "      <td>238</td>\n",
       "      <td>NaN</td>\n",
       "    </tr>\n",
       "    <tr>\n",
       "      <th>1</th>\n",
       "      <td>1</td>\n",
       "      <td>1</td>\n",
       "      <td>21</td>\n",
       "      <td>238</td>\n",
       "      <td>NaN</td>\n",
       "    </tr>\n",
       "    <tr>\n",
       "      <th>2</th>\n",
       "      <td>2</td>\n",
       "      <td>-1</td>\n",
       "      <td>-1</td>\n",
       "      <td>-1</td>\n",
       "      <td>NaN</td>\n",
       "    </tr>\n",
       "    <tr>\n",
       "      <th>3</th>\n",
       "      <td>3</td>\n",
       "      <td>1</td>\n",
       "      <td>39</td>\n",
       "      <td>238</td>\n",
       "      <td>NaN</td>\n",
       "    </tr>\n",
       "    <tr>\n",
       "      <th>4</th>\n",
       "      <td>4</td>\n",
       "      <td>1</td>\n",
       "      <td>29</td>\n",
       "      <td>63</td>\n",
       "      <td>NaN</td>\n",
       "    </tr>\n",
       "  </tbody>\n",
       "</table>\n",
       "</div>"
      ],
      "text/plain": [
       "   USERID  GENDER  AGEYR  COUNTRY  FIRSTGO\n",
       "0       0       1     27      238      NaN\n",
       "1       1       1     21      238      NaN\n",
       "2       2      -1     -1       -1      NaN\n",
       "3       3       1     39      238      NaN\n",
       "4       4       1     29       63      NaN"
      ]
     },
     "execution_count": 33,
     "metadata": {},
     "output_type": "execute_result"
    }
   ],
   "source": [
    "merged_user.head()"
   ]
  },
  {
   "cell_type": "code",
   "execution_count": 34,
   "metadata": {
    "collapsed": false
   },
   "outputs": [],
   "source": [
    "#recode and replace values in user details\n",
    "merged_user['GENDER'] = merged_user['GENDER'].replace([1, 0, -1], ['M','F', np.nan])\n",
    "merged_user['FIRSTGO'] = merged_user['FIRSTGO'].replace(np.nan, 0)\n",
    "merged_user['AGEYR'] = merged_user['AGEYR'].replace(-1, np.nan)\n",
    "merged_user['COUNTRY'] = merged_user['COUNTRY'].replace(-1, np.nan)"
   ]
  },
  {
   "cell_type": "code",
   "execution_count": 35,
   "metadata": {
    "collapsed": false
   },
   "outputs": [
    {
     "data": {
      "text/html": [
       "<div>\n",
       "<table border=\"1\" class=\"dataframe\">\n",
       "  <thead>\n",
       "    <tr style=\"text-align: right;\">\n",
       "      <th></th>\n",
       "      <th>USERID</th>\n",
       "      <th>GENDER</th>\n",
       "      <th>AGEYR</th>\n",
       "      <th>COUNTRY</th>\n",
       "      <th>FIRSTGO</th>\n",
       "    </tr>\n",
       "  </thead>\n",
       "  <tbody>\n",
       "    <tr>\n",
       "      <th>0</th>\n",
       "      <td>0</td>\n",
       "      <td>M</td>\n",
       "      <td>27</td>\n",
       "      <td>238</td>\n",
       "      <td>0</td>\n",
       "    </tr>\n",
       "    <tr>\n",
       "      <th>1</th>\n",
       "      <td>1</td>\n",
       "      <td>M</td>\n",
       "      <td>21</td>\n",
       "      <td>238</td>\n",
       "      <td>0</td>\n",
       "    </tr>\n",
       "    <tr>\n",
       "      <th>2</th>\n",
       "      <td>2</td>\n",
       "      <td>NaN</td>\n",
       "      <td>NaN</td>\n",
       "      <td>NaN</td>\n",
       "      <td>0</td>\n",
       "    </tr>\n",
       "    <tr>\n",
       "      <th>3</th>\n",
       "      <td>3</td>\n",
       "      <td>M</td>\n",
       "      <td>39</td>\n",
       "      <td>238</td>\n",
       "      <td>0</td>\n",
       "    </tr>\n",
       "    <tr>\n",
       "      <th>4</th>\n",
       "      <td>4</td>\n",
       "      <td>M</td>\n",
       "      <td>29</td>\n",
       "      <td>63</td>\n",
       "      <td>0</td>\n",
       "    </tr>\n",
       "  </tbody>\n",
       "</table>\n",
       "</div>"
      ],
      "text/plain": [
       "   USERID GENDER  AGEYR  COUNTRY  FIRSTGO\n",
       "0       0      M     27      238        0\n",
       "1       1      M     21      238        0\n",
       "2       2    NaN    NaN      NaN        0\n",
       "3       3      M     39      238        0\n",
       "4       4      M     29       63        0"
      ]
     },
     "execution_count": 35,
     "metadata": {},
     "output_type": "execute_result"
    }
   ],
   "source": [
    "merged_user.head()"
   ]
  },
  {
   "cell_type": "code",
   "execution_count": 36,
   "metadata": {
    "collapsed": false
   },
   "outputs": [
    {
     "data": {
      "text/html": [
       "<div>\n",
       "<table border=\"1\" class=\"dataframe\">\n",
       "  <thead>\n",
       "    <tr style=\"text-align: right;\">\n",
       "      <th></th>\n",
       "      <th>USERID</th>\n",
       "      <th>AGEYR</th>\n",
       "      <th>COUNTRY</th>\n",
       "      <th>FIRSTGO</th>\n",
       "    </tr>\n",
       "  </thead>\n",
       "  <tbody>\n",
       "    <tr>\n",
       "      <th>count</th>\n",
       "      <td>27479537.000000</td>\n",
       "      <td>22339342.000000</td>\n",
       "      <td>25198152.000000</td>\n",
       "      <td>27479537.000000</td>\n",
       "    </tr>\n",
       "    <tr>\n",
       "      <th>mean</th>\n",
       "      <td>13749938.602635</td>\n",
       "      <td>29.871847</td>\n",
       "      <td>199.173639</td>\n",
       "      <td>0.013991</td>\n",
       "    </tr>\n",
       "    <tr>\n",
       "      <th>std</th>\n",
       "      <td>7938591.171910</td>\n",
       "      <td>11.686770</td>\n",
       "      <td>59.334692</td>\n",
       "      <td>0.117453</td>\n",
       "    </tr>\n",
       "    <tr>\n",
       "      <th>min</th>\n",
       "      <td>0.000000</td>\n",
       "      <td>18.000000</td>\n",
       "      <td>1.000000</td>\n",
       "      <td>0.000000</td>\n",
       "    </tr>\n",
       "    <tr>\n",
       "      <th>25%</th>\n",
       "      <td>6874905.000000</td>\n",
       "      <td>22.000000</td>\n",
       "      <td>175.000000</td>\n",
       "      <td>0.000000</td>\n",
       "    </tr>\n",
       "    <tr>\n",
       "      <th>50%</th>\n",
       "      <td>13749912.000000</td>\n",
       "      <td>27.000000</td>\n",
       "      <td>238.000000</td>\n",
       "      <td>0.000000</td>\n",
       "    </tr>\n",
       "    <tr>\n",
       "      <th>75%</th>\n",
       "      <td>20624917.000000</td>\n",
       "      <td>34.000000</td>\n",
       "      <td>238.000000</td>\n",
       "      <td>0.000000</td>\n",
       "    </tr>\n",
       "    <tr>\n",
       "      <th>max</th>\n",
       "      <td>27499999.000000</td>\n",
       "      <td>152.000000</td>\n",
       "      <td>238.000000</td>\n",
       "      <td>1.000000</td>\n",
       "    </tr>\n",
       "  </tbody>\n",
       "</table>\n",
       "</div>"
      ],
      "text/plain": [
       "                USERID            AGEYR          COUNTRY          FIRSTGO\n",
       "count  27479537.000000  22339342.000000  25198152.000000  27479537.000000\n",
       "mean   13749938.602635        29.871847       199.173639         0.013991\n",
       "std     7938591.171910        11.686770        59.334692         0.117453\n",
       "min           0.000000        18.000000         1.000000         0.000000\n",
       "25%     6874905.000000        22.000000       175.000000         0.000000\n",
       "50%    13749912.000000        27.000000       238.000000         0.000000\n",
       "75%    20624917.000000        34.000000       238.000000         0.000000\n",
       "max    27499999.000000       152.000000       238.000000         1.000000"
      ]
     },
     "execution_count": 36,
     "metadata": {},
     "output_type": "execute_result"
    }
   ],
   "source": [
    "merged_user.describe()"
   ]
  },
  {
   "cell_type": "code",
   "execution_count": 37,
   "metadata": {
    "collapsed": false
   },
   "outputs": [
    {
     "data": {
      "text/plain": [
       "<matplotlib.axes._subplots.AxesSubplot at 0x7f6180a1d3c8>"
      ]
     },
     "execution_count": 37,
     "metadata": {},
     "output_type": "execute_result"
    },
    {
     "data": {
      "image/png": "[encoded data removed]",
      "text/plain": [
       "<matplotlib.figure.Figure at 0x7f6180a1d438>"
      ]
     },
     "metadata": {},
     "output_type": "display_data"
    }
   ],
   "source": [
    "#plot age histogram\n",
    "merged_user['AGEYR'].hist(bins=20, normed = True, color = 'r', alpha = 0.6)"
   ]
  },
  {
   "cell_type": "code",
   "execution_count": 41,
   "metadata": {
    "collapsed": false
   },
   "outputs": [
    {
     "data": {
      "text/plain": [
       "<matplotlib.axes._subplots.AxesSubplot at 0x7f610d50a7b8>"
      ]
     },
     "execution_count": 41,
     "metadata": {},
     "output_type": "execute_result"
    },
    {
     "data": {
      "image/png": "[encoded data removed]",
      "text/plain": [
       "<matplotlib.figure.Figure at 0x7f610d4586a0>"
      ]
     },
     "metadata": {},
     "output_type": "display_data"
    }
   ],
   "source": [
    "#plot dist of Gender bar plot\n",
    "a = merged_user.groupby('GENDER').GENDER.count()\n",
    "a.plot(kind='bar', color='g', alpha=0.7)"
   ]
  },
  {
   "cell_type": "code",
   "execution_count": 42,
   "metadata": {
    "collapsed": false
   },
   "outputs": [
    {
     "data": {
      "text/plain": [
       "FIRSTGO\n",
       "0    27095070\n",
       "1      384467\n",
       "Name: FIRSTGO, dtype: int64"
      ]
     },
     "execution_count": 42,
     "metadata": {},
     "output_type": "execute_result"
    }
   ],
   "source": [
    "#plot dist of FIRSTGO bar plot\n",
    "b = merged_user.groupby('FIRSTGO').FIRSTGO.count()\n",
    "b"
   ]
  },
  {
   "cell_type": "code",
   "execution_count": 40,
   "metadata": {
    "collapsed": false
   },
   "outputs": [
    {
     "data": {
      "text/plain": [
       "<matplotlib.axes._subplots.AxesSubplot at 0x7f610d4eb5f8>"
      ]
     },
     "execution_count": 40,
     "metadata": {},
     "output_type": "execute_result"
    },
    {
     "data": {
      "image/png": "[encoded data removed]",
      "text/plain": [
       "<matplotlib.figure.Figure at 0x7f610d472160>"
      ]
     },
     "metadata": {},
     "output_type": "display_data"
    }
   ],
   "source": [
    "b.plot(kind='bar', color='y', alpha=0.7)"
   ]
  },
  {
   "cell_type": "code",
   "execution_count": null,
   "metadata": {
    "collapsed": true
   },
   "outputs": [],
   "source": [
    "#Create network graph using IM exchanges between each pair of users"
   ]
  },
  {
   "cell_type": "code",
   "execution_count": 43,
   "metadata": {
    "collapsed": true
   },
   "outputs": [],
   "source": [
    "###\n",
    "###\n",
    "###\n",
    "#Graph #1\n",
    "#Create a directed graph\n",
    "G=nx.DiGraph()"
   ]
  },
  {
   "cell_type": "code",
   "execution_count": 44,
   "metadata": {
    "collapsed": false
   },
   "outputs": [],
   "source": [
    "#Add edges for sending from egoid to alterid\n",
    "list1 = IM_table.ix[:,['EGOID','ALTERID','COUNT']][IM_table.ACTIVITY_CODE == 'S']\n",
    "tuples1 = [tuple(x) for x in list1.values]\n",
    "G.add_weighted_edges_from(tuples1, 'num_messages')"
   ]
  },
  {
   "cell_type": "code",
   "execution_count": 43,
   "metadata": {
    "collapsed": false
   },
   "outputs": [
    {
     "data": {
      "text/plain": [
       "'Name: \\nType: DiGraph\\nNumber of nodes: 18530393\\nNumber of edges: 89326143\\nAverage in degree:   4.8205\\nAverage out degree:   4.8205'"
      ]
     },
     "execution_count": 43,
     "metadata": {},
     "output_type": "execute_result"
    }
   ],
   "source": [
    "nx.info(G)"
   ]
  },
  {
   "cell_type": "code",
   "execution_count": 45,
   "metadata": {
    "collapsed": true
   },
   "outputs": [],
   "source": [
    "#Add edges for sending from alterid to egoid, i.e egoid receiving from alterid\n",
    "list2 = IM_table.ix[:,['ALTERID','EGOID','COUNT']][IM_table.ACTIVITY_CODE == 'R']\n",
    "tuples2 = [tuple(x) for x in list2.values]\n",
    "G.add_weighted_edges_from(tuples2, 'num_messages')"
   ]
  },
  {
   "cell_type": "code",
   "execution_count": 46,
   "metadata": {
    "collapsed": false
   },
   "outputs": [
    {
     "data": {
      "text/plain": [
       "'Name: \\nType: DiGraph\\nNumber of nodes: 21326955\\nNumber of edges: 125513830\\nAverage in degree:   5.8852\\nAverage out degree:   5.8852'"
      ]
     },
     "execution_count": 46,
     "metadata": {},
     "output_type": "execute_result"
    }
   ],
   "source": [
    "nx.info(G)"
   ]
  },
  {
   "cell_type": "code",
   "execution_count": 47,
   "metadata": {
    "collapsed": false
   },
   "outputs": [],
   "source": [
    "#find degree centrality\n",
    "a = nx.degree_centrality(G)\n",
    "deg_dist = [node_num for node_num, centrality in a.items()]\n",
    "nx.set_node_attributes(G, 'deg_centrality', a)"
   ]
  },
  {
   "cell_type": "code",
   "execution_count": 48,
   "metadata": {
    "collapsed": false
   },
   "outputs": [
    {
     "data": {
      "text/html": [
       "<div>\n",
       "<table border=\"1\" class=\"dataframe\">\n",
       "  <thead>\n",
       "    <tr style=\"text-align: right;\">\n",
       "      <th></th>\n",
       "      <th>0</th>\n",
       "    </tr>\n",
       "  </thead>\n",
       "  <tbody>\n",
       "    <tr>\n",
       "      <th>count</th>\n",
       "      <td>21326955.000000</td>\n",
       "    </tr>\n",
       "    <tr>\n",
       "      <th>mean</th>\n",
       "      <td>13748709.136835</td>\n",
       "    </tr>\n",
       "    <tr>\n",
       "      <th>std</th>\n",
       "      <td>7938668.433079</td>\n",
       "    </tr>\n",
       "    <tr>\n",
       "      <th>min</th>\n",
       "      <td>0.000000</td>\n",
       "    </tr>\n",
       "    <tr>\n",
       "      <th>25%</th>\n",
       "      <td>6873614.000000</td>\n",
       "    </tr>\n",
       "    <tr>\n",
       "      <th>50%</th>\n",
       "      <td>13748582.000000</td>\n",
       "    </tr>\n",
       "    <tr>\n",
       "      <th>75%</th>\n",
       "      <td>20622985.000000</td>\n",
       "    </tr>\n",
       "    <tr>\n",
       "      <th>max</th>\n",
       "      <td>27499999.000000</td>\n",
       "    </tr>\n",
       "  </tbody>\n",
       "</table>\n",
       "</div>"
      ],
      "text/plain": [
       "                     0\n",
       "count  21326955.000000\n",
       "mean   13748709.136835\n",
       "std     7938668.433079\n",
       "min           0.000000\n",
       "25%     6873614.000000\n",
       "50%    13748582.000000\n",
       "75%    20622985.000000\n",
       "max    27499999.000000"
      ]
     },
     "execution_count": 48,
     "metadata": {},
     "output_type": "execute_result"
    }
   ],
   "source": [
    "DataFrame(deg_dist).describe()"
   ]
  },
  {
   "cell_type": "code",
   "execution_count": 49,
   "metadata": {
    "collapsed": false
   },
   "outputs": [
    {
     "data": {
      "text/plain": [
       "array([[<matplotlib.axes._subplots.AxesSubplot object at 0x7f6180a22940>]], dtype=object)"
      ]
     },
     "execution_count": 49,
     "metadata": {},
     "output_type": "execute_result"
    },
    {
     "data": {
      "image/png": "[encoded data removed]",
      "text/plain": [
       "<matplotlib.figure.Figure at 0x7f610d588978>"
      ]
     },
     "metadata": {},
     "output_type": "display_data"
    }
   ],
   "source": [
    "#plot the histogram of degree centrality\n",
    "DataFrame(deg_dist).hist(bins=100, normed = True, color = 'r', alpha = 0.6)"
   ]
  },
  {
   "cell_type": "code",
   "execution_count": 50,
   "metadata": {
    "collapsed": false
   },
   "outputs": [],
   "source": [
    "#find in-degree centrality\n",
    "a = nx.in_degree_centrality(G)\n",
    "in_dist = [node_num for node_num, centrality in a.items()]\n",
    "nx.set_node_attributes(G, 'in_deg_centrality', a)"
   ]
  },
  {
   "cell_type": "code",
   "execution_count": 51,
   "metadata": {
    "collapsed": false
   },
   "outputs": [
    {
     "data": {
      "text/html": [
       "<div>\n",
       "<table border=\"1\" class=\"dataframe\">\n",
       "  <thead>\n",
       "    <tr style=\"text-align: right;\">\n",
       "      <th></th>\n",
       "      <th>0</th>\n",
       "    </tr>\n",
       "  </thead>\n",
       "  <tbody>\n",
       "    <tr>\n",
       "      <th>count</th>\n",
       "      <td>21326955.000000</td>\n",
       "    </tr>\n",
       "    <tr>\n",
       "      <th>mean</th>\n",
       "      <td>13748709.136835</td>\n",
       "    </tr>\n",
       "    <tr>\n",
       "      <th>std</th>\n",
       "      <td>7938668.433079</td>\n",
       "    </tr>\n",
       "    <tr>\n",
       "      <th>min</th>\n",
       "      <td>0.000000</td>\n",
       "    </tr>\n",
       "    <tr>\n",
       "      <th>25%</th>\n",
       "      <td>6873614.000000</td>\n",
       "    </tr>\n",
       "    <tr>\n",
       "      <th>50%</th>\n",
       "      <td>13748582.000000</td>\n",
       "    </tr>\n",
       "    <tr>\n",
       "      <th>75%</th>\n",
       "      <td>20622985.000000</td>\n",
       "    </tr>\n",
       "    <tr>\n",
       "      <th>max</th>\n",
       "      <td>27499999.000000</td>\n",
       "    </tr>\n",
       "  </tbody>\n",
       "</table>\n",
       "</div>"
      ],
      "text/plain": [
       "                     0\n",
       "count  21326955.000000\n",
       "mean   13748709.136835\n",
       "std     7938668.433079\n",
       "min           0.000000\n",
       "25%     6873614.000000\n",
       "50%    13748582.000000\n",
       "75%    20622985.000000\n",
       "max    27499999.000000"
      ]
     },
     "execution_count": 51,
     "metadata": {},
     "output_type": "execute_result"
    }
   ],
   "source": [
    "DataFrame(in_dist).describe()"
   ]
  },
  {
   "cell_type": "code",
   "execution_count": 52,
   "metadata": {
    "collapsed": false
   },
   "outputs": [
    {
     "data": {
      "text/plain": [
       "array([[<matplotlib.axes._subplots.AxesSubplot object at 0x7f4a810fa0f0>]], dtype=object)"
      ]
     },
     "execution_count": 52,
     "metadata": {},
     "output_type": "execute_result"
    },
    {
     "data": {
      "image/png": "[encoded data removed]",
      "text/plain": [
       "<matplotlib.figure.Figure at 0x7f4a80fa9438>"
      ]
     },
     "metadata": {},
     "output_type": "display_data"
    }
   ],
   "source": [
    "#plot the histogram of in-degree centrality\n",
    "DataFrame(in_dist).hist(bins=100, normed = True, color = 'b', alpha = 0.6)"
   ]
  },
  {
   "cell_type": "code",
   "execution_count": 53,
   "metadata": {
    "collapsed": true
   },
   "outputs": [],
   "source": [
    "#find out-degree centrality\n",
    "a = nx.out_degree_centrality(G)\n",
    "out_dist = [node_num for node_num, centrality in a.items()]\n",
    "nx.set_node_attributes(G, 'out_deg_centrality', a)"
   ]
  },
  {
   "cell_type": "code",
   "execution_count": 54,
   "metadata": {
    "collapsed": false
   },
   "outputs": [
    {
     "data": {
      "text/html": [
       "<div>\n",
       "<table border=\"1\" class=\"dataframe\">\n",
       "  <thead>\n",
       "    <tr style=\"text-align: right;\">\n",
       "      <th></th>\n",
       "      <th>0</th>\n",
       "    </tr>\n",
       "  </thead>\n",
       "  <tbody>\n",
       "    <tr>\n",
       "      <th>count</th>\n",
       "      <td>21326955.000000</td>\n",
       "    </tr>\n",
       "    <tr>\n",
       "      <th>mean</th>\n",
       "      <td>13748709.136835</td>\n",
       "    </tr>\n",
       "    <tr>\n",
       "      <th>std</th>\n",
       "      <td>7938668.433079</td>\n",
       "    </tr>\n",
       "    <tr>\n",
       "      <th>min</th>\n",
       "      <td>0.000000</td>\n",
       "    </tr>\n",
       "    <tr>\n",
       "      <th>25%</th>\n",
       "      <td>6873614.000000</td>\n",
       "    </tr>\n",
       "    <tr>\n",
       "      <th>50%</th>\n",
       "      <td>13748582.000000</td>\n",
       "    </tr>\n",
       "    <tr>\n",
       "      <th>75%</th>\n",
       "      <td>20622985.000000</td>\n",
       "    </tr>\n",
       "    <tr>\n",
       "      <th>max</th>\n",
       "      <td>27499999.000000</td>\n",
       "    </tr>\n",
       "  </tbody>\n",
       "</table>\n",
       "</div>"
      ],
      "text/plain": [
       "                     0\n",
       "count  21326955.000000\n",
       "mean   13748709.136835\n",
       "std     7938668.433079\n",
       "min           0.000000\n",
       "25%     6873614.000000\n",
       "50%    13748582.000000\n",
       "75%    20622985.000000\n",
       "max    27499999.000000"
      ]
     },
     "execution_count": 54,
     "metadata": {},
     "output_type": "execute_result"
    }
   ],
   "source": [
    "DataFrame(out_dist).describe()"
   ]
  },
  {
   "cell_type": "code",
   "execution_count": 57,
   "metadata": {
    "collapsed": false
   },
   "outputs": [
    {
     "data": {
      "text/plain": [
       "array([[<matplotlib.axes._subplots.AxesSubplot object at 0x7f4a18360ba8>]], dtype=object)"
      ]
     },
     "execution_count": 57,
     "metadata": {},
     "output_type": "execute_result"
    },
    {
     "data": {
      "image/png": "[encoded data removed]",
      "text/plain": [
       "<matplotlib.figure.Figure at 0x7f4a1823b7b8>"
      ]
     },
     "metadata": {},
     "output_type": "display_data"
    }
   ],
   "source": [
    "#plot the histogram of out-degree centrality\n",
    "DataFrame(out_dist).hist(bins=100, normed = True, color = 'y', alpha = 0.6)"
   ]
  },
  {
   "cell_type": "code",
   "execution_count": 80,
   "metadata": {
    "collapsed": true
   },
   "outputs": [
    {
     "name": "stdout",
     "output_type": "stream",
     "text": [
      "0\n"
     ]
    },
    {
     "ename": "KeyboardInterrupt",
     "evalue": "",
     "output_type": "error",
     "traceback": [
      "\u001b[1;31m---------------------------------------------------------------------------\u001b[0m",
      "\u001b[1;31mKeyboardInterrupt\u001b[0m                         Traceback (most recent call last)",
      "\u001b[1;32m<ipython-input-80-01ca237ff8fa>\u001b[0m in \u001b[0;36m<module>\u001b[1;34m()\u001b[0m\n\u001b[0;32m      3\u001b[0m     \u001b[1;32mif\u001b[0m \u001b[1;33m(\u001b[0m\u001b[0mrow\u001b[0m\u001b[1;33m[\u001b[0m\u001b[1;36m0\u001b[0m\u001b[1;33m]\u001b[0m\u001b[1;33m%\u001b[0m\u001b[1;36m500000\u001b[0m \u001b[1;33m==\u001b[0m \u001b[1;36m0\u001b[0m\u001b[1;33m)\u001b[0m\u001b[1;33m:\u001b[0m\u001b[1;33m\u001b[0m\u001b[0m\n\u001b[0;32m      4\u001b[0m         \u001b[0mprint\u001b[0m\u001b[1;33m(\u001b[0m\u001b[0mrow\u001b[0m\u001b[1;33m[\u001b[0m\u001b[1;36m0\u001b[0m\u001b[1;33m]\u001b[0m\u001b[1;33m)\u001b[0m\u001b[1;33m\u001b[0m\u001b[0m\n\u001b[1;32m----> 5\u001b[1;33m     \u001b[1;32mif\u001b[0m \u001b[0mrow\u001b[0m\u001b[1;33m[\u001b[0m\u001b[1;36m0\u001b[0m\u001b[1;33m]\u001b[0m \u001b[1;32min\u001b[0m \u001b[0mG\u001b[0m\u001b[1;33m.\u001b[0m\u001b[0mnodes\u001b[0m\u001b[1;33m(\u001b[0m\u001b[1;33m)\u001b[0m\u001b[1;33m:\u001b[0m\u001b[1;33m\u001b[0m\u001b[0m\n\u001b[0m\u001b[0;32m      6\u001b[0m         \u001b[0mnx\u001b[0m\u001b[1;33m.\u001b[0m\u001b[0mset_node_attributes\u001b[0m\u001b[1;33m(\u001b[0m\u001b[0mG\u001b[0m\u001b[1;33m,\u001b[0m \u001b[1;34m'GENDER'\u001b[0m\u001b[1;33m,\u001b[0m \u001b[1;33m{\u001b[0m\u001b[0mrow\u001b[0m\u001b[1;33m[\u001b[0m\u001b[1;36m0\u001b[0m\u001b[1;33m]\u001b[0m \u001b[1;33m:\u001b[0m \u001b[0mrow\u001b[0m\u001b[1;33m[\u001b[0m\u001b[1;36m1\u001b[0m\u001b[1;33m]\u001b[0m\u001b[1;33m[\u001b[0m\u001b[1;36m1\u001b[0m\u001b[1;33m]\u001b[0m\u001b[1;33m}\u001b[0m\u001b[1;33m)\u001b[0m\u001b[1;33m\u001b[0m\u001b[0m\n\u001b[0;32m      7\u001b[0m         \u001b[0mnx\u001b[0m\u001b[1;33m.\u001b[0m\u001b[0mset_node_attributes\u001b[0m\u001b[1;33m(\u001b[0m\u001b[0mG\u001b[0m\u001b[1;33m,\u001b[0m \u001b[1;34m'AGEYR'\u001b[0m\u001b[1;33m,\u001b[0m \u001b[1;33m{\u001b[0m\u001b[0mrow\u001b[0m\u001b[1;33m[\u001b[0m\u001b[1;36m0\u001b[0m\u001b[1;33m]\u001b[0m \u001b[1;33m:\u001b[0m \u001b[0mrow\u001b[0m\u001b[1;33m[\u001b[0m\u001b[1;36m1\u001b[0m\u001b[1;33m]\u001b[0m\u001b[1;33m[\u001b[0m\u001b[1;36m2\u001b[0m\u001b[1;33m]\u001b[0m\u001b[1;33m}\u001b[0m\u001b[1;33m)\u001b[0m\u001b[1;33m\u001b[0m\u001b[0m\n",
      "\u001b[1;31mKeyboardInterrupt\u001b[0m: "
     ]
    }
   ],
   "source": [
    "#assign user details as node's attributes\n",
    "for row in merged_user.iterrows():\n",
    "    if (row[0]%500000 == 0):\n",
    "        print(row[0])\n",
    "    if row[0] in G.nodes():\n",
    "        nx.set_node_attributes(G, 'GENDER', {row[0] : row[1][1]})\n",
    "        nx.set_node_attributes(G, 'AGEYR', {row[0] : row[1][2]})\n",
    "        nx.set_node_attributes(G, 'COUNTRY', {row[0] : row[1][3]})\n",
    "        nx.set_node_attributes(G, 'FIRSTGO', {row[0] : row[1][4]})\n",
    "#realised that the check for (if row[0] in G.nodes()) is extremely slow!!! Abort!!!"
   ]
  },
  {
   "cell_type": "code",
   "execution_count": 58,
   "metadata": {
    "collapsed": true
   },
   "outputs": [],
   "source": [
    "#Try alternative methods of getting graph stats (without setting node attributes in graph)\n",
    "nd = [d for n,d in G.nodes_iter(data=True)]"
   ]
  },
  {
   "cell_type": "code",
   "execution_count": 59,
   "metadata": {
    "collapsed": true
   },
   "outputs": [],
   "source": [
    "nodes = DataFrame(G.nodes())"
   ]
  },
  {
   "cell_type": "code",
   "execution_count": 60,
   "metadata": {
    "collapsed": true
   },
   "outputs": [],
   "source": [
    "nd = DataFrame(nd)\n",
    "nd.insert(0, 'USERID', nodes)"
   ]
  },
  {
   "cell_type": "code",
   "execution_count": null,
   "metadata": {
    "collapsed": true
   },
   "outputs": [],
   "source": [
    "#merge with user details"
   ]
  },
  {
   "cell_type": "code",
   "execution_count": 64,
   "metadata": {
    "collapsed": false
   },
   "outputs": [],
   "source": [
    "merge_all = pd.merge(merged_user, nd, on = 'USERID', how = 'outer')"
   ]
  },
  {
   "cell_type": "code",
   "execution_count": 65,
   "metadata": {
    "collapsed": false
   },
   "outputs": [
    {
     "data": {
      "text/html": [
       "<div>\n",
       "<table border=\"1\" class=\"dataframe\">\n",
       "  <thead>\n",
       "    <tr style=\"text-align: right;\">\n",
       "      <th></th>\n",
       "      <th>USERID</th>\n",
       "      <th>GENDER</th>\n",
       "      <th>AGEYR</th>\n",
       "      <th>COUNTRY</th>\n",
       "      <th>FIRSTGO</th>\n",
       "      <th>deg_centrality</th>\n",
       "      <th>in_deg_centrality</th>\n",
       "      <th>out_deg_centrality</th>\n",
       "    </tr>\n",
       "  </thead>\n",
       "  <tbody>\n",
       "    <tr>\n",
       "      <th>0</th>\n",
       "      <td>0</td>\n",
       "      <td>M</td>\n",
       "      <td>27</td>\n",
       "      <td>238</td>\n",
       "      <td>0</td>\n",
       "      <td>9.377804e-08</td>\n",
       "      <td>4.688902e-08</td>\n",
       "      <td>4.688902e-08</td>\n",
       "    </tr>\n",
       "    <tr>\n",
       "      <th>1</th>\n",
       "      <td>1</td>\n",
       "      <td>M</td>\n",
       "      <td>21</td>\n",
       "      <td>238</td>\n",
       "      <td>0</td>\n",
       "      <td>9.377804e-08</td>\n",
       "      <td>4.688902e-08</td>\n",
       "      <td>4.688902e-08</td>\n",
       "    </tr>\n",
       "    <tr>\n",
       "      <th>2</th>\n",
       "      <td>2</td>\n",
       "      <td>NaN</td>\n",
       "      <td>NaN</td>\n",
       "      <td>NaN</td>\n",
       "      <td>0</td>\n",
       "      <td>NaN</td>\n",
       "      <td>NaN</td>\n",
       "      <td>NaN</td>\n",
       "    </tr>\n",
       "    <tr>\n",
       "      <th>3</th>\n",
       "      <td>3</td>\n",
       "      <td>M</td>\n",
       "      <td>39</td>\n",
       "      <td>238</td>\n",
       "      <td>0</td>\n",
       "      <td>1.453560e-06</td>\n",
       "      <td>7.502243e-07</td>\n",
       "      <td>7.033353e-07</td>\n",
       "    </tr>\n",
       "    <tr>\n",
       "      <th>4</th>\n",
       "      <td>4</td>\n",
       "      <td>M</td>\n",
       "      <td>29</td>\n",
       "      <td>63</td>\n",
       "      <td>0</td>\n",
       "      <td>9.377804e-08</td>\n",
       "      <td>4.688902e-08</td>\n",
       "      <td>4.688902e-08</td>\n",
       "    </tr>\n",
       "  </tbody>\n",
       "</table>\n",
       "</div>"
      ],
      "text/plain": [
       "   USERID GENDER  AGEYR  COUNTRY  FIRSTGO  deg_centrality  in_deg_centrality  \\\n",
       "0       0      M     27      238        0    9.377804e-08       4.688902e-08   \n",
       "1       1      M     21      238        0    9.377804e-08       4.688902e-08   \n",
       "2       2    NaN    NaN      NaN        0             NaN                NaN   \n",
       "3       3      M     39      238        0    1.453560e-06       7.502243e-07   \n",
       "4       4      M     29       63        0    9.377804e-08       4.688902e-08   \n",
       "\n",
       "   out_deg_centrality  \n",
       "0        4.688902e-08  \n",
       "1        4.688902e-08  \n",
       "2                 NaN  \n",
       "3        7.033353e-07  \n",
       "4        4.688902e-08  "
      ]
     },
     "execution_count": 65,
     "metadata": {},
     "output_type": "execute_result"
    }
   ],
   "source": [
    "merge_all.head()"
   ]
  },
  {
   "cell_type": "code",
   "execution_count": 66,
   "metadata": {
    "collapsed": false
   },
   "outputs": [
    {
     "data": {
      "text/html": [
       "<div>\n",
       "<table border=\"1\" class=\"dataframe\">\n",
       "  <thead>\n",
       "    <tr style=\"text-align: right;\">\n",
       "      <th></th>\n",
       "      <th>deg_centrality</th>\n",
       "      <th>in_deg_centrality</th>\n",
       "      <th>out_deg_centrality</th>\n",
       "    </tr>\n",
       "    <tr>\n",
       "      <th>GENDER</th>\n",
       "      <th></th>\n",
       "      <th></th>\n",
       "      <th></th>\n",
       "    </tr>\n",
       "  </thead>\n",
       "  <tbody>\n",
       "    <tr>\n",
       "      <th>F</th>\n",
       "      <td>5.673128e-07</td>\n",
       "      <td>3.053596e-07</td>\n",
       "      <td>2.619531e-07</td>\n",
       "    </tr>\n",
       "    <tr>\n",
       "      <th>M</th>\n",
       "      <td>5.634481e-07</td>\n",
       "      <td>2.551057e-07</td>\n",
       "      <td>3.083424e-07</td>\n",
       "    </tr>\n",
       "  </tbody>\n",
       "</table>\n",
       "</div>"
      ],
      "text/plain": [
       "        deg_centrality  in_deg_centrality  out_deg_centrality\n",
       "GENDER                                                       \n",
       "F         5.673128e-07       3.053596e-07        2.619531e-07\n",
       "M         5.634481e-07       2.551057e-07        3.083424e-07"
      ]
     },
     "execution_count": 66,
     "metadata": {},
     "output_type": "execute_result"
    }
   ],
   "source": [
    "#Get the deg centrality statistics by Gender \n",
    "merge_all.ix[:,[1,5,6,7]].groupby('GENDER').mean()"
   ]
  },
  {
   "cell_type": "code",
   "execution_count": 67,
   "metadata": {
    "collapsed": false
   },
   "outputs": [
    {
     "name": "stderr",
     "output_type": "stream",
     "text": [
      "/opt/conda/lib/python3.4/site-packages/IPython/kernel/__main__.py:4: SettingWithCopyWarning: \n",
      "A value is trying to be set on a copy of a slice from a DataFrame.\n",
      "Try using .loc[row_indexer,col_indexer] = value instead\n",
      "\n",
      "See the the caveats in the documentation: http://pandas.pydata.org/pandas-docs/stable/indexing.html#indexing-view-versus-copy\n"
     ]
    },
    {
     "data": {
      "text/html": [
       "<div>\n",
       "<table border=\"1\" class=\"dataframe\">\n",
       "  <thead>\n",
       "    <tr style=\"text-align: right;\">\n",
       "      <th></th>\n",
       "      <th>deg_centrality</th>\n",
       "      <th>in_deg_centrality</th>\n",
       "      <th>out_deg_centrality</th>\n",
       "    </tr>\n",
       "    <tr>\n",
       "      <th>AGEYR</th>\n",
       "      <th></th>\n",
       "      <th></th>\n",
       "      <th></th>\n",
       "    </tr>\n",
       "  </thead>\n",
       "  <tbody>\n",
       "    <tr>\n",
       "      <th>(18, 25]</th>\n",
       "      <td>5.657661e-07</td>\n",
       "      <td>2.806696e-07</td>\n",
       "      <td>2.850965e-07</td>\n",
       "    </tr>\n",
       "    <tr>\n",
       "      <th>(25, 35]</th>\n",
       "      <td>5.622503e-07</td>\n",
       "      <td>2.695020e-07</td>\n",
       "      <td>2.927484e-07</td>\n",
       "    </tr>\n",
       "    <tr>\n",
       "      <th>(35, 60]</th>\n",
       "      <td>5.554246e-07</td>\n",
       "      <td>2.640852e-07</td>\n",
       "      <td>2.913394e-07</td>\n",
       "    </tr>\n",
       "    <tr>\n",
       "      <th>(60, 100]</th>\n",
       "      <td>5.702788e-07</td>\n",
       "      <td>2.401516e-07</td>\n",
       "      <td>3.301272e-07</td>\n",
       "    </tr>\n",
       "  </tbody>\n",
       "</table>\n",
       "</div>"
      ],
      "text/plain": [
       "           deg_centrality  in_deg_centrality  out_deg_centrality\n",
       "AGEYR                                                           \n",
       "(18, 25]     5.657661e-07       2.806696e-07        2.850965e-07\n",
       "(25, 35]     5.622503e-07       2.695020e-07        2.927484e-07\n",
       "(35, 60]     5.554246e-07       2.640852e-07        2.913394e-07\n",
       "(60, 100]    5.702788e-07       2.401516e-07        3.301272e-07"
      ]
     },
     "execution_count": 67,
     "metadata": {},
     "output_type": "execute_result"
    }
   ],
   "source": [
    "#Bin to age groups then get the deg centrality statistics by age groups\n",
    "aa_bins = [18, 25, 35, 60, 100]\n",
    "aa = merge_all.ix[:,[2,5,6,7]]\n",
    "aa['AGEYR'] = pd.cut(aa['AGEYR'], aa_bins)\n",
    "aa.groupby('AGEYR').mean()"
   ]
  },
  {
   "cell_type": "code",
   "execution_count": 68,
   "metadata": {
    "collapsed": false
   },
   "outputs": [
    {
     "data": {
      "text/html": [
       "<div>\n",
       "<table border=\"1\" class=\"dataframe\">\n",
       "  <thead>\n",
       "    <tr style=\"text-align: right;\">\n",
       "      <th></th>\n",
       "      <th>deg_centrality</th>\n",
       "      <th>in_deg_centrality</th>\n",
       "      <th>out_deg_centrality</th>\n",
       "    </tr>\n",
       "    <tr>\n",
       "      <th>FIRSTGO</th>\n",
       "      <th></th>\n",
       "      <th></th>\n",
       "      <th></th>\n",
       "    </tr>\n",
       "  </thead>\n",
       "  <tbody>\n",
       "    <tr>\n",
       "      <th>0</th>\n",
       "      <td>5.491462e-07</td>\n",
       "      <td>2.744272e-07</td>\n",
       "      <td>2.747190e-07</td>\n",
       "    </tr>\n",
       "    <tr>\n",
       "      <th>1</th>\n",
       "      <td>9.746666e-07</td>\n",
       "      <td>5.096923e-07</td>\n",
       "      <td>4.649743e-07</td>\n",
       "    </tr>\n",
       "  </tbody>\n",
       "</table>\n",
       "</div>"
      ],
      "text/plain": [
       "         deg_centrality  in_deg_centrality  out_deg_centrality\n",
       "FIRSTGO                                                       \n",
       "0          5.491462e-07       2.744272e-07        2.747190e-07\n",
       "1          9.746666e-07       5.096923e-07        4.649743e-07"
      ]
     },
     "execution_count": 68,
     "metadata": {},
     "output_type": "execute_result"
    }
   ],
   "source": [
    "#Get the deg centrality statistics by whether user is an adopter of GO platform or not\n",
    "fg = merge_all.ix[:,[4,5,6,7]]\n",
    "fg.groupby('FIRSTGO').mean()"
   ]
  },
  {
   "cell_type": "code",
   "execution_count": null,
   "metadata": {
    "collapsed": true
   },
   "outputs": [],
   "source": []
  },
  {
   "cell_type": "code",
   "execution_count": 69,
   "metadata": {
    "collapsed": true
   },
   "outputs": [],
   "source": [
    "#plot the graph network. Red means adopter of Go and blue means not\n",
    "Go_nodes = merge_all.ix[:,4]\n",
    "w = Go_nodes.replace([1,0,np.nan],['R','B','B'])\n",
    "w= w.values.tolist()\n",
    "nx.draw(G, node_color = w)\n",
    "### The graph is too large!!! Cannot complete!!!"
   ]
  },
  {
   "cell_type": "code",
   "execution_count": null,
   "metadata": {
    "collapsed": true
   },
   "outputs": [],
   "source": [
    "#try to plot a sub-graph instead..."
   ]
  },
  {
   "cell_type": "code",
   "execution_count": 70,
   "metadata": {
    "collapsed": false
   },
   "outputs": [
    {
     "name": "stderr",
     "output_type": "stream",
     "text": [
      "/opt/conda/lib/python3.4/site-packages/IPython/kernel/__main__.py:4: SettingWithCopyWarning: \n",
      "A value is trying to be set on a copy of a slice from a DataFrame.\n",
      "Try using .loc[row_indexer,col_indexer] = value instead\n",
      "\n",
      "See the the caveats in the documentation: http://pandas.pydata.org/pandas-docs/stable/indexing.html#indexing-view-versus-copy\n"
     ]
    }
   ],
   "source": [
    "#plot graph for under 20\n",
    "aa_bins = [18, 20, 100]\n",
    "aa = merge_all.ix[:,[0,2]]\n",
    "aa['AGEYR'] = pd.cut(aa['AGEYR'], aa_bins)"
   ]
  },
  {
   "cell_type": "code",
   "execution_count": 81,
   "metadata": {
    "collapsed": true
   },
   "outputs": [],
   "source": [
    "young = aa[aa['AGEYR']  == '(18, 20]']"
   ]
  },
  {
   "cell_type": "code",
   "execution_count": 84,
   "metadata": {
    "collapsed": true
   },
   "outputs": [],
   "source": [
    "y = young.USERID.values.tolist()"
   ]
  },
  {
   "cell_type": "code",
   "execution_count": null,
   "metadata": {
    "collapsed": false
   },
   "outputs": [],
   "source": [
    "H = G.subgraph(y)\n",
    "nx.draw(H)"
   ]
  },
  {
   "cell_type": "code",
   "execution_count": 71,
   "metadata": {
    "collapsed": false
   },
   "outputs": [
    {
     "data": {
      "text/plain": [
       "(27479537, 2)"
      ]
     },
     "execution_count": 71,
     "metadata": {},
     "output_type": "execute_result"
    }
   ],
   "source": [
    "aa.shape"
   ]
  },
  {
   "cell_type": "code",
   "execution_count": 80,
   "metadata": {
    "collapsed": false
   },
   "outputs": [
    {
     "data": {
      "text/plain": [
       "(2513789, 2)"
      ]
     },
     "execution_count": 80,
     "metadata": {},
     "output_type": "execute_result"
    }
   ],
   "source": [
    "young.shape"
   ]
  },
  {
   "cell_type": "code",
   "execution_count": null,
   "metadata": {
    "collapsed": true
   },
   "outputs": [],
   "source": []
  }
 ],
 "metadata": {
  "kernelspec": {
   "display_name": "Python 3",
   "language": "python",
   "name": "python3"
  },
  "language_info": {
   "codemirror_mode": {
    "name": "ipython",
    "version": 3
   },
   "file_extension": ".py",
   "mimetype": "text/x-python",
   "name": "python",
   "nbconvert_exporter": "python",
   "pygments_lexer": "ipython3",
   "version": "3.4.3"
  }
 },
 "nbformat": 4,
 "nbformat_minor": 0
}
