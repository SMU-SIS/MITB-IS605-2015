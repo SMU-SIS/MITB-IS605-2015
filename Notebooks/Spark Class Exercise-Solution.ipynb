{
 "cells": [
  {
   "cell_type": "code",
   "execution_count": 1,
   "metadata": {
    "collapsed": false
   },
   "outputs": [
    {
     "name": "stdout",
     "output_type": "stream",
     "text": [
      "Chris Boesch ran all at 2015-12-05 08:49:53.531787\n"
     ]
    }
   ],
   "source": [
    "student_name = \"Chris Boesch\" # Chris Boesch\n",
    "\n",
    "\"\"\"\n",
    "Update the student_name variable above with your name. \n",
    "Extend this notebook to solve the problems at the bottom. \n",
    "From the menue Cell -> Run All\n",
    "Save your notebook. \n",
    "Download your notebook. \n",
    "Create a Github Gist of your notebook. \n",
    "Submit a link to your gist in ClassMentors. \n",
    "\n",
    "\"\"\"\n",
    "\n",
    "import datetime\n",
    "now = datetime.datetime.now()\n",
    "\n",
    "message = \"{} ran all at {}\".format(student_name, now)\n",
    "print(message)"
   ]
  },
  {
   "cell_type": "code",
   "execution_count": 2,
   "metadata": {
    "collapsed": false
   },
   "outputs": [],
   "source": [
    "from pyspark import SparkContext, SparkConf\n",
    "conf = SparkConf()\n",
    "sc = SparkContext(conf=conf)\n"
   ]
  },
  {
   "cell_type": "code",
   "execution_count": 36,
   "metadata": {
    "collapsed": false
   },
   "outputs": [
    {
     "name": "stdout",
     "output_type": "stream",
     "text": [
      "['Lion,A,10,100', 'Tiger,B,18,200', 'Lion,A,11,100', 'Tiger,B,12,300', 'Lion,A,9,100', 'Tiger,A,14,100', 'Bear,B,8,100', 'Bear,A,6,200', 'Lion,B,16,100', 'Lion,B,15,400', 'Lion,B,14,100', 'Lion,A,11,100', 'Bear,B,9,200', 'Bear,A,5,100', 'Tiger,A,13,100', 'Tiger,B,14,200', 'Tiger,A,12,100', 'Tiger,A,11,100', 'Tiger,B,15,100', 'Lion,B,14,100']\n"
     ]
    }
   ],
   "source": [
    "\"\"\"\n",
    "Given this csv data, use Spark to answer the following questions. \n",
    "Write your code so that it would scale and work for ten million rows \n",
    "as well as for thew few rows provided. \n",
    "\n",
    "A few university students have launched a company to import animal toys in to Singapore. \n",
    "Customers bid on available orders coming from the factory overseas. \n",
    "This bidding process causes the prices for various categories of toys to rise and fall. \n",
    "The data for the past 100 orders has been saved in the file Lions-Tigers-Bears.csv. \n",
    "This data has 4 columns. \n",
    "\n",
    " Toy, Category, Price per item, Quantity\n",
    "\n",
    "The value for any given order is the price per item times the quantity. For example, 100 toys at $12 each would be a $1200 order.\n",
    "\n",
    "\"\"\"\n",
    "rawdata = \"\"\"Lion,A,10,100\n",
    "Tiger,B,18,200\n",
    "Lion,A,11,100\n",
    "Tiger,B,12,300\n",
    "Lion,A,9,100\n",
    "Tiger,A,14,100\n",
    "Bear,B,8,100\n",
    "Bear,A,6,200\n",
    "Lion,B,16,100\n",
    "Lion,B,15,400\n",
    "Lion,B,14,100\n",
    "Lion,A,11,100\n",
    "Bear,B,9,200\n",
    "Bear,A,5,100\n",
    "Tiger,A,13,100\n",
    "Tiger,B,14,200\n",
    "Tiger,A,12,100\n",
    "Tiger,A,11,100\n",
    "Tiger,B,15,100\n",
    "Lion,B,14,100\n",
    "\"\"\"\n",
    "data_file = open(\"toys.csv\", \"w\")\n",
    "data_file.write(rawdata)\n",
    "data_file.close()\n",
    "\n",
    "# Load data from file.  \n",
    "data = sc.textFile(\"toys.csv\")\n",
    "print(data.collect())\n"
   ]
  },
  {
   "cell_type": "code",
   "execution_count": 70,
   "metadata": {
    "collapsed": false
   },
   "outputs": [
    {
     "name": "stdout",
     "output_type": "stream",
     "text": [
      "Q1 = [('Tiger', 1200), ('Bear', 600), ('Lion', 1100)]\n",
      "Q2 = [('Tiger', 16500), ('Bear', 4300), ('Lion', 14500)]\n",
      "Q3 = [(('Lion', 'A'), 4), (('Lion', 'B'), 4), (('Bear', 'A'), 2), (('Bear', 'B'), 2), (('Tiger', 'A'), 4), (('Tiger', 'B'), 4)]\n",
      "Q4 = [(('Lion', 'A'), 4100), (('Lion', 'B'), 10400), (('Bear', 'A'), 1700), (('Bear', 'B'), 2600), (('Tiger', 'A'), 5000), (('Tiger', 'B'), 11500)]\n",
      "Q5 = [(('Lion', 'A'), (4100, 41)), (('Lion', 'B'), (10400, 59)), (('Bear', 'A'), (1700, 11)), (('Bear', 'B'), (2600, 17)), (('Tiger', 'A'), (5000, 50)), (('Tiger', 'B'), (11500, 59))]\n"
     ]
    }
   ],
   "source": [
    "\"\"\"\n",
    "Write the spark code to answer the following questions using the data RDD defined above. \n",
    "\n",
    "Q1 - Th total quantity of Toys sold per toy type. \n",
    "      Lion, 200\n",
    "      Tiger, 300\n",
    "Q2 - The total revenue (price * quantity) per Toy type\n",
    "      Lion, 10000\n",
    "      Tiger, 20000\n",
    "Q3 - The number of records for each toy and category combination (Lion-A, Tiger-B). \n",
    "      Lion-A, 12\n",
    "      Tiger-B, 15\n",
    "Q4 - The revenue (price * quantity) per individual toy and category combination. \n",
    "      Lion-A, 5000\n",
    "      Tiger-B, 7000\n",
    "Q5 - The total revenue and quantity sold per individual toy and category combination. \n",
    "      (Lion,A), (5000,19)\n",
    "      (Tiger,B), (7000,23)\n",
    "\"\"\"\n",
    "\n",
    "\n",
    "q1 = (data.map(lambda line: line.split(\",\")) \n",
    "         .map(lambda x: (x[0], x[3]) ) \n",
    "         .reduceByKey(lambda x,y: int(x) + int(y)) \n",
    "         .collect())\n",
    "            \n",
    "q2 = (data.map(lambda line: line.split(\",\")) \n",
    "         .map(lambda x: (x[0], int(x[2])*int(x[3])  )) \n",
    "         .reduceByKey(lambda x,y: x + y) \n",
    "         .collect())\n",
    "q3 = (data.map(lambda line: line.split(\",\")) \n",
    "         .map(lambda x: ((x[0],x[1]) , 1)  ) \n",
    "         .reduceByKey(lambda x,y: x + y) \n",
    "         .collect())\n",
    "\n",
    "q4 = (data.map(lambda line: line.split(\",\")) \n",
    "         .map(lambda x: ((x[0],x[1]) , int(x[2])*int(x[3]))  ) \n",
    "         .reduceByKey(lambda x,y: x + y) \n",
    "         .collect())\n",
    "\n",
    "q5 = (data.map(lambda line: line.split(\",\"))\n",
    "     .map(lambda x:((x[0].strip(),x[1]),(int(x[2])*int(x[3]),int(x[2]))))\n",
    "     .reduceByKey(lambda x,y:(x[0]+y[0],x[1]+y[1]))\n",
    "     .collect()) \n",
    "\n",
    "\n",
    "print(\"Q1 = {}\".format(q1))\n",
    "print(\"Q2 = {}\".format(q2))\n",
    "print(\"Q3 = {}\".format(q3))\n",
    "print(\"Q4 = {}\".format(q4))\n",
    "print(\"Q5 = {}\".format(q5))\n"
   ]
  },
  {
   "cell_type": "code",
   "execution_count": null,
   "metadata": {
    "collapsed": false
   },
   "outputs": [],
   "source": [
    "\"\"\"\n",
    "Repeat this exercise using the data from this url. \n",
    "You will need to launch your own Jupyter server to fetch this data or \n",
    "upload this file to your Try Jupyter instance. \n",
    "\n",
    "https://dl.dropboxusercontent.com/u/4972572/temp/Lions-Tigers-Bears.csv\n",
    "\n",
    "\"\"\""
   ]
  },
  {
   "cell_type": "code",
   "execution_count": 73,
   "metadata": {
    "collapsed": false
   },
   "outputs": [
    {
     "name": "stdout",
     "output_type": "stream",
     "text": [
      "100\n"
     ]
    }
   ],
   "source": [
    "# Load data from file.  \n",
    "data = sc.textFile(\"Lions-Tigers-Bears.csv\")\n",
    "print(data.count())"
   ]
  },
  {
   "cell_type": "code",
   "execution_count": 76,
   "metadata": {
    "collapsed": false
   },
   "outputs": [
    {
     "name": "stdout",
     "output_type": "stream",
     "text": [
      "Q1 = [('Tiger', 6000), ('Bear', 3000), ('Lion', 5500)]\n",
      "Q2 = [('Tiger', 82500), ('Bear', 21500), ('Lion', 72500)]\n",
      "Q3 = [(('Lion', 'A'), 20), (('Lion', 'B'), 20), (('Bear', 'A'), 10), (('Bear', 'B'), 10), (('Tiger', 'A'), 20), (('Tiger', 'B'), 20)]\n",
      "Q4 = [(('Lion', 'A'), 20500), (('Lion', 'B'), 52000), (('Bear', 'A'), 8500), (('Bear', 'B'), 13000), (('Tiger', 'A'), 25000), (('Tiger', 'B'), 57500)]\n",
      "Q5 = [(('Lion', 'A'), (20500, 205)), (('Lion', 'B'), (52000, 295)), (('Bear', 'A'), (8500, 55)), (('Bear', 'B'), (13000, 85)), (('Tiger', 'A'), (25000, 250)), (('Tiger', 'B'), (57500, 295))]\n"
     ]
    }
   ],
   "source": [
    "\"\"\"\n",
    "Write the spark code to answer the following questions using the data RDD defined above. \n",
    "\n",
    "Q1 - Th total quantity of Toys sold per toy type. \n",
    "      Lion, 200\n",
    "      Tiger, 300\n",
    "Q2 - The total revenue (price * quantity) per Toy type\n",
    "      Lion, 10000\n",
    "      Tiger, 20000\n",
    "Q3 - The number of records for each toy and category combination (Lion-A, Tiger-B). \n",
    "      Lion-A, 12\n",
    "      Tiger-B, 15\n",
    "Q4 - The revenue (price * quantity) per individual toy and category combination. \n",
    "      Lion-A, 5000\n",
    "      Tiger-B, 7000\n",
    "Q5 - The total revenue and quantity sold per individual toy and category combination. \n",
    "      (Lion,A), (5000,19)\n",
    "      (Tiger,B), (7000,23)\n",
    "\"\"\"\n",
    "\n",
    "q1 = (data.map(lambda line: line.split(\",\")) \n",
    "         .map(lambda x: (x[0].strip(), x[3]) ) \n",
    "         .reduceByKey(lambda x,y: int(x) + int(y)) \n",
    "         .collect())\n",
    "            \n",
    "q2 = (data.map(lambda line: line.split(\",\")) \n",
    "         .map(lambda x: (x[0].strip(), int(x[2])*int(x[3])  )) \n",
    "         .reduceByKey(lambda x,y: x + y) \n",
    "         .collect())\n",
    "q3 = (data.map(lambda line: line.split(\",\")) \n",
    "         .map(lambda x: ((x[0].strip(),x[1]) , 1)  ) \n",
    "         .reduceByKey(lambda x,y: x + y) \n",
    "         .collect())\n",
    "\n",
    "q4 = (data.map(lambda line: line.split(\",\")) \n",
    "         .map(lambda x: ((x[0].strip(),x[1]) , int(x[2])*int(x[3]))  ) \n",
    "         .reduceByKey(lambda x,y: x + y) \n",
    "         .collect())\n",
    "\n",
    "q5 = (data.map(lambda line: line.split(\",\"))\n",
    "     .map(lambda x:((x[0].strip(),x[1]),(int(x[2])*int(x[3]),int(x[2]))))\n",
    "     .reduceByKey(lambda x,y:(x[0]+y[0],x[1]+y[1]))\n",
    "     .collect()) \n",
    "\n",
    "print(\"Q1 = {}\".format(q1))\n",
    "print(\"Q2 = {}\".format(q2))\n",
    "print(\"Q3 = {}\".format(q3))\n",
    "print(\"Q4 = {}\".format(q4))\n",
    "print(\"Q5 = {}\".format(q5))"
   ]
  },
  {
   "cell_type": "code",
   "execution_count": null,
   "metadata": {
    "collapsed": true
   },
   "outputs": [],
   "source": [
    "\"\"\"\n",
    "Perform a word count on the entire text of Green Eggs and Ham. \n",
    "You can download the text from this address and upload it to TryJupyter or your EC2 instance. \n",
    "https://dl.dropboxusercontent.com/u/4972572/temp/GreenEggsAndHam.txt\n",
    "\n",
    "Make all words lower case. \n",
    "Remove all punctuation .,!,?, etc. \n",
    "\n",
    "Print the 5 words that occure the most often and their frequency. \n",
    "23, This\n",
    "19, is\n",
    "15, a\n",
    "14, short\n",
    "12, example\n",
    "\"\"\""
   ]
  },
  {
   "cell_type": "code",
   "execution_count": 77,
   "metadata": {
    "collapsed": false
   },
   "outputs": [
    {
     "name": "stdout",
     "output_type": "stream",
     "text": [
      "('i', 71)\n",
      "('not', 66)\n",
      "('a', 59)\n",
      "('them', 51)\n",
      "('like', 44)\n"
     ]
    }
   ],
   "source": [
    "data = sc.textFile(\"GreenEggsAndHam.txt\")\n",
    "\n",
    "# .takeOrdered(5, key=lambda x: -x[1]) will give you the largest 5 tuples sorted by value. \n",
    "\n",
    "# Load data from file.  \n",
    "linecount = data.count()\n",
    "# Load data from file again if not cached. \n",
    "wordcount = data.flatMap(lambda line: line.split(\" \")) \\\n",
    "                .map(lambda x: (x.replace(\"?\",\"\").replace(\"!\",\"\").replace(\".\",\"\").replace(\" \", \"\").lower(), 1)) \\\n",
    "                .filter(lambda x: x[0]!='') \\\n",
    "                .groupByKey() \\\n",
    "                .map(lambda x: (x[0], len(x[1]) )) \\\n",
    "                .takeOrdered(5, key=lambda x: -x[1])\n",
    "\n",
    "for item in wordcount: \n",
    "    print(item)\n",
    "\n"
   ]
  }
 ],
 "metadata": {
  "kernelspec": {
   "display_name": "Python 3",
   "language": "python",
   "name": "python3"
  },
  "language_info": {
   "codemirror_mode": {
    "name": "ipython",
    "version": 3
   },
   "file_extension": ".py",
   "mimetype": "text/x-python",
   "name": "python",
   "nbconvert_exporter": "python",
   "pygments_lexer": "ipython3",
   "version": "3.4.3"
  }
 },
 "nbformat": 4,
 "nbformat_minor": 0
}
