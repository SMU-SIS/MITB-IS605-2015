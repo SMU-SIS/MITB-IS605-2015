{
 "cells": [
  {
   "cell_type": "markdown",
   "metadata": {},
   "source": [
    "#Parallelism speeds up input\n",
    "####Let's see how we use in memory parallel processing to speed up an operation!"
   ]
  },
  {
   "cell_type": "code",
   "execution_count": null,
   "metadata": {
    "collapsed": false
   },
   "outputs": [],
   "source": [
    "#Let's use Apache Spark to do this, as it supports multicore processing internally.\n",
    "from pyspark import SparkContext, SparkConf\n",
    "conf = SparkConf()\n",
    "sc = SparkContext(conf=conf)"
   ]
  },
  {
   "cell_type": "code",
   "execution_count": null,
   "metadata": {
    "collapsed": false
   },
   "outputs": [],
   "source": [
    "#We create a method to generate a decently big (n^2) list.\n",
    "def bigList(n):\n",
    "    theList = []\n",
    "    for i in range(0, n):\n",
    "        for j in range(0, n):\n",
    "            theList.append(j)\n",
    "    return theList\n",
    "bigList = bigList(1000)\n",
    "\n",
    "#We create an RDD that is only stored in 1 partition, so only one worker can work on it\n",
    "bigList1RDD = sc.parallelize(bigList, 1)\n",
    "\n",
    "#We create another RDD that is stored in 4 partitions, allowing 4 workers to work on it\n",
    "bigList4RDD = sc.parallelize(bigList, 4)"
   ]
  },
  {
   "cell_type": "code",
   "execution_count": null,
   "metadata": {
    "collapsed": false
   },
   "outputs": [],
   "source": [
    "import time\n",
    "\n",
    "#How long does it take to run on 1 core?\n",
    "start_time = time.time()\n",
    "for i in range (0, 100):\n",
    "    bigList1RDD.map(lambda x : x + 1).collect()\n",
    "print(\"--- %s seconds ---\" % (time.time() - start_time))\n",
    "\n",
    "#How long does it take to run on 4 cores?\n",
    "start_time = time.time()\n",
    "for i in range(0, 100):\n",
    "    bigList4RDD.map(lambda x : x + 1).collect()\n",
    "print(\"--- %s seconds ---\" % (time.time() - start_time))"
   ]
  }
 ],
 "metadata": {
  "kernelspec": {
   "display_name": "Python 3",
   "language": "python",
   "name": "python3"
  },
  "language_info": {
   "codemirror_mode": {
    "name": "ipython",
    "version": 3
   },
   "file_extension": ".py",
   "mimetype": "text/x-python",
   "name": "python",
   "nbconvert_exporter": "python",
   "pygments_lexer": "ipython3",
   "version": "3.4.3"
  }
 },
 "nbformat": 4,
 "nbformat_minor": 0
}
