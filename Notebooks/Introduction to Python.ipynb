{
 "cells": [
  {
   "cell_type": "code",
   "execution_count": 5,
   "metadata": {
    "collapsed": false
   },
   "outputs": [
    {
     "name": "stdout",
     "output_type": "stream",
     "text": [
      "Comments are fun.\n"
     ]
    }
   ],
   "source": [
    "# A hashmark causes python to ignore the following text as a comment. \n",
    "\"\"\"\n",
    "You and also comment out text by wrapping it as a \n",
    "multiline string in between triple quotes. \n",
    "\"\"\"\n",
    "\n",
    "'''\n",
    "You can use single or double quotes to \n",
    "create multiline strings. \n",
    "'''\n",
    "print(\"Comments are fun.\") # This comment will not do anyting. "
   ]
  },
  {
   "cell_type": "code",
   "execution_count": 6,
   "metadata": {
    "collapsed": false
   },
   "outputs": [
    {
     "name": "stdout",
     "output_type": "stream",
     "text": [
      "hello\n"
     ]
    }
   ],
   "source": [
    "# The builtin print() function will take any python type and print\n",
    "# a string version of the type. \n",
    "print(\"hello\")"
   ]
  },
  {
   "cell_type": "code",
   "execution_count": 7,
   "metadata": {
    "collapsed": false
   },
   "outputs": [
    {
     "name": "stdout",
     "output_type": "stream",
     "text": [
      "Chris\n",
      "Christian\n"
     ]
    }
   ],
   "source": [
    "# Variables can be any group of charactsrs.\n",
    "# The can not start with a number but can have numbers in them. \n",
    "name = \"Chris\"\n",
    "name88 = \"Sandra\"\n",
    "this_is_a_name = \"Christian\"\n",
    "_name = \"Shannon\"\n",
    "# 8name = \"Shannon\" # This would cause an error since it starts with a number. \n",
    "\n",
    "print(name)\n",
    "print(this_is_a_name)"
   ]
  },
  {
   "cell_type": "code",
   "execution_count": 8,
   "metadata": {
    "collapsed": false
   },
   "outputs": [
    {
     "name": "stdout",
     "output_type": "stream",
     "text": [
      "<type 'str'>\n",
      "<type 'float'>\n",
      "<type 'list'>\n",
      "<type 'dict'>\n",
      "<type 'tuple'>\n",
      "<type 'bool'>\n"
     ]
    }
   ],
   "source": [
    "# There are few differnt types that we will work with\n",
    "strings = \"Chris\"\n",
    "numbers = 4.5\n",
    "lists = ['Bob', 'Stuart', 'Kevin']\n",
    "dictionaries = {'name':'Chris', 'color':\"blue\"}\n",
    "tuples = ('Bob', 'Stuart', 'Kevin')\n",
    "booleans = True\n",
    "\n",
    "print( type(strings))\n",
    "print( type(numbers))\n",
    "print( type(lists))\n",
    "print( type(dictionaries))\n",
    "print( type(tuples))\n",
    "print( type(booleans))\n"
   ]
  },
  {
   "cell_type": "code",
   "execution_count": 9,
   "metadata": {
    "collapsed": false
   },
   "outputs": [
    {
     "name": "stdout",
     "output_type": "stream",
     "text": [
      "<type 'int'>\n",
      "<type 'float'>\n",
      "(5, 5.0)\n"
     ]
    }
   ],
   "source": [
    "# differnt types of numbers\n",
    "x = 5\n",
    "print( type(x) )\n",
    "y = 5.0\n",
    "print( type(y) )\n",
    "print(x,y)\n"
   ]
  },
  {
   "cell_type": "code",
   "execution_count": 10,
   "metadata": {
    "collapsed": false
   },
   "outputs": [
    {
     "name": "stdout",
     "output_type": "stream",
     "text": [
      "Try to use original_variable_names\n"
     ]
    }
   ],
   "source": [
    "# Try not to use the reserved python types and functions as variable names\n",
    "# You might accidentally overwright the default python behavior. \n",
    "\n",
    "my_number = int(\"5\")\n",
    "\n",
    "\"\"\"\n",
    "int = \"Testing\"\n",
    "my_number = int(\"5\")\n",
    "\n",
    "This will overwrite the int function with the string \"Testing\" and cause an error like. \n",
    "TypeError: 'str' object is not callable\n",
    "    \n",
    "\"\"\"\n",
    "print(\"Try to use original_variable_names\")"
   ]
  },
  {
   "cell_type": "code",
   "execution_count": 11,
   "metadata": {
    "collapsed": false
   },
   "outputs": [
    {
     "name": "stdout",
     "output_type": "stream",
     "text": [
      "81\n",
      "40.5\n"
     ]
    }
   ],
   "source": [
    "# You can use mathematical operators on numbers. \n",
    "a = 1\n",
    "b = 2\n",
    "c = 3\n",
    "d = a + b\n",
    "e = c * d\n",
    "f = e ** 2\n",
    "print(f)\n",
    "g = f / 2.0\n",
    "print(g)"
   ]
  },
  {
   "cell_type": "code",
   "execution_count": 12,
   "metadata": {
    "collapsed": false
   },
   "outputs": [
    {
     "name": "stdout",
     "output_type": "stream",
     "text": [
      "['Bob', 'Stuart']\n",
      "Bob\n",
      "Stuart\n"
     ]
    },
    {
     "data": {
      "text/plain": [
       "2"
      ]
     },
     "execution_count": 12,
     "metadata": {},
     "output_type": "execute_result"
    }
   ],
   "source": [
    "# You can add and remove things from lists\n",
    "mylist = [] # an empty list\n",
    "mylist.append('Bob') # ['Bob']\n",
    "mylist.append('Stuart')\n",
    "print(mylist)\n",
    "\n",
    "# You can access items in a list by their index starting at 0. \n",
    "print(mylist[0])\n",
    "print(mylist[1])\n",
    "# You can use the builtin function len() to return the length of a list. \n",
    "len(mylist) # 2\n",
    "\n"
   ]
  },
  {
   "cell_type": "code",
   "execution_count": 13,
   "metadata": {
    "collapsed": false
   },
   "outputs": [
    {
     "name": "stdout",
     "output_type": "stream",
     "text": [
      "[1]\n"
     ]
    }
   ],
   "source": [
    "# You can remove items from a list by value using remove()\n",
    "the_list = [0,1,1,2,3]\n",
    "the_list.remove(1) # [0,1,2,3]\n",
    "the_list.remove(3) # [0,1,2]\n",
    "\n",
    "# You can also pop items off the end of the list. \n",
    "the_list.pop() # [0,1]\n",
    "\n",
    "# Or remove an item from a specific index\n",
    "the_list.pop(0) # [1]\n",
    "print(the_list)\n"
   ]
  },
  {
   "cell_type": "code",
   "execution_count": 14,
   "metadata": {
    "collapsed": false
   },
   "outputs": [
    {
     "name": "stdout",
     "output_type": "stream",
     "text": [
      "[1, 2, 3, 4, 5]\n",
      "[6, 7, 8, 9]\n"
     ]
    },
    {
     "data": {
      "text/plain": [
       "[7, 8, 9]"
      ]
     },
     "execution_count": 14,
     "metadata": {},
     "output_type": "execute_result"
    }
   ],
   "source": [
    "# You can return a slice of lists\n",
    "my_list = [1,2,3,4,5,6,7,8,9]\n",
    "print( my_list[0:5])\n",
    "print( my_list[5:10])\n",
    "# If you leave off the first index, the slice starts from the beginning. \n",
    "my_list[:4] # [1, 2, 3, 4]\n",
    "# If you leave off the last index, the slice goes to the end of the list. \n",
    "my_list[6:] # [7, 8, 9]\n"
   ]
  },
  {
   "cell_type": "code",
   "execution_count": 15,
   "metadata": {
    "collapsed": false
   },
   "outputs": [
    {
     "name": "stdout",
     "output_type": "stream",
     "text": [
      "My name is Chris. I like apples\n"
     ]
    }
   ],
   "source": [
    "# Strings support many of the same properties as lists. \n",
    "# You can think of strings as a list of characters with a lot of extra features.\n",
    "name = \"Chris\"\n",
    "len(name) # 5\n",
    "name[0] # 'C'\n",
    "name[:3] # 'Chr'\n",
    "name[3:] # 'is'\n",
    "\n",
    "# But strings are immutable. You can't change them. So no append() or pop()\n",
    "# But you can call properties that return new Strings. \n",
    "name.upper() # \"CHRIS\"\n",
    "name.lower() # \"chris\"\n",
    "\n",
    "# The format method is also a convenient way to insert variables into strings. \n",
    "fruit = \"apples\"\n",
    "result = \"My name is {}. I like {}\".format(name, fruit)\n",
    "print(result)\n",
    "\n",
    "\n"
   ]
  },
  {
   "cell_type": "code",
   "execution_count": 16,
   "metadata": {
    "collapsed": false
   },
   "outputs": [
    {
     "name": "stdout",
     "output_type": "stream",
     "text": [
      "Hi\n",
      "Hi\n"
     ]
    }
   ],
   "source": [
    "# Functions let you define code that you want to reuse. \n",
    "# Everything indented after the first line is part of the function. \n",
    "def say_hi():\n",
    "    print(\"Hi\")\n",
    "\n",
    "say_hi()\n",
    "say_hi()"
   ]
  },
  {
   "cell_type": "code",
   "execution_count": 17,
   "metadata": {
    "collapsed": false
   },
   "outputs": [
    {
     "name": "stdout",
     "output_type": "stream",
     "text": [
      "Hi Chris\n",
      "Hi Sandra\n"
     ]
    }
   ],
   "source": [
    "# You can pass values in to a function \n",
    "def say_hi(name):\n",
    "    message = \"Hi {}\".format(name)\n",
    "    print(message)\n",
    "\n",
    "say_hi(\"Chris\")\n",
    "say_hi(\"Sandra\")\n"
   ]
  },
  {
   "cell_type": "code",
   "execution_count": 18,
   "metadata": {
    "collapsed": false
   },
   "outputs": [
    {
     "name": "stdout",
     "output_type": "stream",
     "text": [
      "Chris likes to eat oranges.\n",
      "Sandra likes to eat apples.\n"
     ]
    }
   ],
   "source": [
    "# You can pass multiple values to a function. \n",
    "def introduction(name,fruit):\n",
    "    message = \"{} likes to eat {}.\".format(name,fruit)\n",
    "    print(message)\n",
    "    \n",
    "introduction(\"Chris\", \"oranges\")\n",
    "introduction(\"Sandra\", \"apples\")"
   ]
  },
  {
   "cell_type": "code",
   "execution_count": 19,
   "metadata": {
    "collapsed": false
   },
   "outputs": [
    {
     "name": "stdout",
     "output_type": "stream",
     "text": [
      "Sandra likes to eat apples.\n"
     ]
    }
   ],
   "source": [
    "# Rather than print from a function, you can return a value to the calling code. \n",
    "def introduction(name,fruit):\n",
    "    message = \"{} likes to eat {}.\".format(name,fruit)\n",
    "    return message\n",
    "    \n",
    "message1 = introduction(\"Chris\", \"oranges\")\n",
    "message2 = introduction(\"Sandra\", \"apples\")\n",
    "print(message2)\n"
   ]
  },
  {
   "cell_type": "code",
   "execution_count": 20,
   "metadata": {
    "collapsed": false
   },
   "outputs": [
    {
     "name": "stdout",
     "output_type": "stream",
     "text": [
      "Sandra likes to eat apples.\n"
     ]
    }
   ],
   "source": [
    "# Anything code after the return will not get run. The function has already returned. \n",
    "def introduction(name,fruit):\n",
    "    message = \"{} likes to eat {}.\".format(name,fruit)\n",
    "    return message\n",
    "    print(\"This will never be printed.\")\n",
    "    \n",
    "message1 = introduction(\"Chris\", \"oranges\")\n",
    "message2 = introduction(\"Sandra\", \"apples\")\n",
    "print(message2)"
   ]
  },
  {
   "cell_type": "code",
   "execution_count": 21,
   "metadata": {
    "collapsed": false
   },
   "outputs": [
    {
     "name": "stdout",
     "output_type": "stream",
     "text": [
      "Someone likes to eat durian.\n",
      "Sandra likes to eat durian.\n",
      "Chris likes to eat lemons.\n"
     ]
    }
   ],
   "source": [
    "# You can provide defaults to functions that get used when parameters are not passed. \n",
    "def introduction(name='Someone',fruit='durian'):\n",
    "    message = \"{} likes to eat {}.\".format(name,fruit)\n",
    "    return message\n",
    "    \n",
    "message1 = introduction() # Someone likes to eat durian.\n",
    "message2 = introduction(\"Sandra\") # Sandra likes to eat durian.\n",
    "message3 = introduction(\"Chris\", \"lemons\") # Chris likes to eat lemons.\n",
    "\n",
    "result = \"{}\\n{}\\n{}\".format(message1,message2,message3) # the \\n character prints a newline. \n",
    "print(result)"
   ]
  },
  {
   "cell_type": "code",
   "execution_count": 22,
   "metadata": {
    "collapsed": false
   },
   "outputs": [
    {
     "name": "stdout",
     "output_type": "stream",
     "text": [
      "The character at index 3 for the word Sandra was d\n"
     ]
    }
   ],
   "source": [
    "# One more example\n",
    "def get_character(my_string, my_index=0):\n",
    "    return my_string[my_index]\n",
    "\n",
    "get_character(\"Chris\")   # 'C'\n",
    "get_character(\"Chris\",2) # 'r'\n",
    "\n",
    "word = \"Sandra\"\n",
    "index = 3\n",
    "c = get_character(\"Sandra\",3)\n",
    "result = \"The character at index {} for the word {} was {}\".format(index, word, c)\n",
    "print(result)\n"
   ]
  },
  {
   "cell_type": "code",
   "execution_count": 25,
   "metadata": {
    "collapsed": false
   },
   "outputs": [
    {
     "name": "stdout",
     "output_type": "stream",
     "text": [
      "Nice to meet you Chris\n"
     ]
    }
   ],
   "source": [
    "# You can use input to gather input from users. \n",
    "name = \"Chris\"\n",
    "# name = input(\"What is your name?\")  # This is commented out so that the notebook can run all\n",
    "response = \"Nice to meet you {}\".format(name)\n",
    "print(response)\n",
    "\n"
   ]
  },
  {
   "cell_type": "code",
   "execution_count": 26,
   "metadata": {
    "collapsed": false
   },
   "outputs": [
    {
     "name": "stdout",
     "output_type": "stream",
     "text": [
      "\n",
      "How can I help you today?\n",
      "1. What problem should I assign next? \n",
      "2. How long will it take this group of participants \n",
      "   to finish the next challenge? \n",
      "3. How should I group the students for upcoming challenges?\n",
      "4. How is this group of participants progressing towards \n",
      "   the learning objectives? \n",
      "5. Who should I follow-up with via email and what message should I send? \n",
      "\n",
      "50th percentile student is estimated to take 8 minutes\n",
      "to complete challenge Analyze2B.\n"
     ]
    }
   ],
   "source": [
    "# You can prototype your interface using input()\n",
    "response = \"2\"\n",
    "options = \"\"\"\n",
    "How can I help you today?\n",
    "1. What problem should I assign next? \n",
    "2. How long will it take this group of participants \n",
    "   to finish the next challenge? \n",
    "3. How should I group the students for upcoming challenges?\n",
    "4. How is this group of participants progressing towards \n",
    "   the learning objectives? \n",
    "5. Who should I follow-up with via email and what message should I send? \n",
    "\"\"\"\n",
    "print(options)\n",
    "#response = input(\"Please select an option. 1,2,3,etc.\")\n",
    "\n",
    "\n",
    "if response==\"1\":\n",
    "    print(\"Recommending that you assigned problem fibonaci\")\n",
    "elif response==\"2\":\n",
    "    print(\"50th percentile student is estimated to take 8 minutes\")\n",
    "    print(\"to complete challenge Analyze2B.\")\n",
    "elif response==\"3\":\n",
    "    print(\"Running response 3\")\n",
    "elif response==\"4\":\n",
    "    print(\"Running response 2\")\n",
    "elif response==\"5\":\n",
    "    print(\"Running response 3\")\n",
    "else: \n",
    "    print(\"That was not a valid option.\")\n",
    "\n"
   ]
  },
  {
   "cell_type": "code",
   "execution_count": 28,
   "metadata": {
    "collapsed": true
   },
   "outputs": [],
   "source": [
    "output_file = open('names.csv', 'w')\n",
    "output_file.write(\"first_name,last_name\\n\")\n",
    "output_file.write(\"Chris,Boesch\\n\")\n",
    "output_file.write(\"Sandra,Boesch\\n\")\n",
    "output_file.close()\n"
   ]
  },
  {
   "cell_type": "code",
   "execution_count": 35,
   "metadata": {
    "collapsed": false
   },
   "outputs": [
    {
     "name": "stdout",
     "output_type": "stream",
     "text": [
      "Chris Boesch\n",
      "Sandra Boesch\n"
     ]
    }
   ],
   "source": [
    "#importing csv files. \n",
    "import csv\n",
    "with open('names.csv') as csvfile:\n",
    "    reader = csv.DictReader(csvfile)\n",
    "    for row in reader:\n",
    "        message = \"{} {}\".format(row['first_name'], row['last_name'])\n",
    "        print message\n",
    "\n"
   ]
  },
  {
   "cell_type": "code",
   "execution_count": null,
   "metadata": {
    "collapsed": true
   },
   "outputs": [],
   "source": []
  }
 ],
 "metadata": {
  "kernelspec": {
   "display_name": "Python 2",
   "language": "python",
   "name": "python2"
  },
  "language_info": {
   "codemirror_mode": {
    "name": "ipython",
    "version": 2
   },
   "file_extension": ".py",
   "mimetype": "text/x-python",
   "name": "python",
   "nbconvert_exporter": "python",
   "pygments_lexer": "ipython2",
   "version": "2.7.6"
  }
 },
 "nbformat": 4,
 "nbformat_minor": 0
}
